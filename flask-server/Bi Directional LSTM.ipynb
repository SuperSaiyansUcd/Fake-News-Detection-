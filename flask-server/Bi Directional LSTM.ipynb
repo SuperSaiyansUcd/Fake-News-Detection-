{
 "cells": [
  {
   "cell_type": "code",
   "execution_count": 2,
   "id": "19f901d0",
   "metadata": {},
   "outputs": [],
   "source": [
    "import numpy as np\n",
    "import pandas as pd\n",
    "from tensorflow.keras.models import Sequential\n",
    "from tensorflow.keras.layers import Embedding, LSTM, Bidirectional, Dense, Dropout\n",
    "from tensorflow.keras.preprocessing.text import Tokenizer\n",
    "from tensorflow.keras.preprocessing.sequence import pad_sequences\n",
    "from sklearn.model_selection import train_test_split\n",
    "from sklearn.metrics import classification_report, confusion_matrix\n",
    "from sklearn.preprocessing import LabelEncoder\n",
    "import nltk\n",
    "from nltk.corpus import stopwords\n",
    "from nltk.tokenize import word_tokenize\n",
    "from nltk.stem import WordNetLemmatizer\n",
    "import re"
   ]
  },
  {
   "cell_type": "code",
   "execution_count": 3,
   "id": "be4b3cf5",
   "metadata": {},
   "outputs": [
    {
     "name": "stderr",
     "output_type": "stream",
     "text": [
      "[nltk_data] Downloading package stopwords to\n",
      "[nltk_data]     C:\\Users\\maddy\\AppData\\Roaming\\nltk_data...\n",
      "[nltk_data]   Package stopwords is already up-to-date!\n",
      "[nltk_data] Downloading package punkt to\n",
      "[nltk_data]     C:\\Users\\maddy\\AppData\\Roaming\\nltk_data...\n",
      "[nltk_data]   Package punkt is already up-to-date!\n",
      "[nltk_data] Downloading package wordnet to\n",
      "[nltk_data]     C:\\Users\\maddy\\AppData\\Roaming\\nltk_data...\n",
      "[nltk_data]   Package wordnet is already up-to-date!\n"
     ]
    },
    {
     "data": {
      "text/plain": [
       "True"
      ]
     },
     "execution_count": 3,
     "metadata": {},
     "output_type": "execute_result"
    }
   ],
   "source": [
    "nltk.download('stopwords')\n",
    "nltk.download('punkt')\n",
    "nltk.download('wordnet')"
   ]
  },
  {
   "cell_type": "code",
   "execution_count": 4,
   "id": "d20955b4",
   "metadata": {},
   "outputs": [],
   "source": [
    "df = pd.read_csv('Features_For_Traditional_ML_Techniques.csv')"
   ]
  },
  {
   "cell_type": "code",
   "execution_count": 5,
   "id": "32094a62",
   "metadata": {},
   "outputs": [],
   "source": [
    "def preprocess_text(text):\n",
    "    text = text.lower()\n",
    "    text = re.sub(r'http\\S+|www\\S+|https\\S+', '', text, flags=re.MULTILINE)\n",
    "    text = re.sub(r'\\W+', ' ', text)\n",
    "    tokens = word_tokenize(text)\n",
    "    stop_words = set(stopwords.words('english'))\n",
    "    filtered_tokens = [token for token in tokens if token not in stop_words]\n",
    "    lemmatizer = WordNetLemmatizer()\n",
    "    lemmatized_tokens = [lemmatizer.lemmatize(token) for token in filtered_tokens]\n",
    "    preprocessed_text = ' '.join(lemmatized_tokens)\n",
    "    return preprocessed_text\n"
   ]
  },
  {
   "cell_type": "code",
   "execution_count": 6,
   "id": "f8460ab8",
   "metadata": {},
   "outputs": [],
   "source": [
    "\n",
    "df['preprocessed_text'] = df['statement'].apply(preprocess_text)"
   ]
  },
  {
   "cell_type": "code",
   "execution_count": 7,
   "id": "97ba1715",
   "metadata": {},
   "outputs": [],
   "source": [
    "from nltk.sentiment import SentimentIntensityAnalyzer\n",
    "from textblob import TextBlob\n"
   ]
  },
  {
   "cell_type": "code",
   "execution_count": 8,
   "id": "46a2b8c8",
   "metadata": {},
   "outputs": [],
   "source": [
    "df['sentiment_score'] = df['preprocessed_text'].apply(lambda x: TextBlob(x).sentiment.polarity)\n",
    "df['sentiment_label'] = df['sentiment_score'].apply(lambda x: 'Positive' if x > 0 else 'Negative' if x < 0 else 'Neutral')\n"
   ]
  },
  {
   "cell_type": "code",
   "execution_count": 9,
   "id": "d6d7766b",
   "metadata": {},
   "outputs": [],
   "source": [
    "tokenizer = Tokenizer()\n",
    "tokenizer.fit_on_texts(df['preprocessed_text'])\n",
    "df['preprocessed_text'] = tokenizer.texts_to_sequences(df['preprocessed_text'])\n",
    "vocab_size = len(tokenizer.word_index) + 1\n",
    "\n",
    "max_len = 100\n",
    "X = pad_sequences(df['preprocessed_text'], maxlen=max_len)\n",
    "\n",
    "label_encoder = LabelEncoder()\n",
    "df['sentiment_label'] = label_encoder.fit_transform(df['sentiment_label'])\n",
    "y = df['sentiment_label']"
   ]
  },
  {
   "cell_type": "code",
   "execution_count": 10,
   "id": "bb41dc95",
   "metadata": {},
   "outputs": [],
   "source": [
    "X_train, X_test, y_train, y_test = train_test_split(X, y, test_size=0.2, random_state=42)\n"
   ]
  },
  {
   "cell_type": "code",
   "execution_count": 11,
   "id": "fb0491f1",
   "metadata": {},
   "outputs": [
    {
     "name": "stdout",
     "output_type": "stream",
     "text": [
      "Model: \"sequential\"\n",
      "_________________________________________________________________\n",
      " Layer (type)                Output Shape              Param #   \n",
      "=================================================================\n",
      " embedding (Embedding)       (None, 100, 100)          337600    \n",
      "                                                                 \n",
      " bidirectional (Bidirectiona  (None, 100, 256)         234496    \n",
      " l)                                                              \n",
      "                                                                 \n",
      " bidirectional_1 (Bidirectio  (None, 128)              164352    \n",
      " nal)                                                            \n",
      "                                                                 \n",
      " dense (Dense)               (None, 64)                8256      \n",
      "                                                                 \n",
      " dropout (Dropout)           (None, 64)                0         \n",
      "                                                                 \n",
      " dense_1 (Dense)             (None, 1)                 65        \n",
      "                                                                 \n",
      "=================================================================\n",
      "Total params: 744,769\n",
      "Trainable params: 744,769\n",
      "Non-trainable params: 0\n",
      "_________________________________________________________________\n"
     ]
    }
   ],
   "source": [
    "model = Sequential()\n",
    "model.add(Embedding(vocab_size, 100, input_length=max_len))\n",
    "model.add(Bidirectional(LSTM(128, dropout=0.2, recurrent_dropout=0.2, return_sequences=True)))\n",
    "model.add(Bidirectional(LSTM(64, dropout=0.2, recurrent_dropout=0.2)))\n",
    "model.add(Dense(64, activation='relu'))\n",
    "model.add(Dropout(0.5))\n",
    "model.add(Dense(1, activation='sigmoid'))\n",
    "model.summary()"
   ]
  },
  {
   "cell_type": "code",
   "execution_count": 12,
   "id": "ba941651",
   "metadata": {},
   "outputs": [],
   "source": [
    "from tensorflow.keras.callbacks import EarlyStopping"
   ]
  },
  {
   "cell_type": "code",
   "execution_count": 13,
   "id": "31c40b8c",
   "metadata": {},
   "outputs": [],
   "source": [
    "model.compile(loss='binary_crossentropy', optimizer='adam', metrics=['accuracy'])\n",
    "\n",
    "early_stopping = EarlyStopping(monitor='val_loss', patience=3)"
   ]
  },
  {
   "cell_type": "code",
   "execution_count": 14,
   "id": "aeb61b11",
   "metadata": {
    "scrolled": true
   },
   "outputs": [
    {
     "name": "stdout",
     "output_type": "stream",
     "text": [
      "Epoch 1/10\n",
      "3355/3355 [==============================] - 1092s 324ms/step - loss: -4114.2568 - accuracy: 0.7599 - val_loss: -11636.0957 - val_accuracy: 0.7703\n",
      "Epoch 2/10\n",
      "3355/3355 [==============================] - 1108s 330ms/step - loss: -23520.3770 - accuracy: 0.7628 - val_loss: -38957.9336 - val_accuracy: 0.7609\n",
      "Epoch 3/10\n",
      "3355/3355 [==============================] - 1123s 335ms/step - loss: -59220.1523 - accuracy: 0.7631 - val_loss: -83093.1641 - val_accuracy: 0.7694\n",
      "Epoch 4/10\n",
      "3355/3355 [==============================] - 1140s 340ms/step - loss: -110410.1172 - accuracy: 0.7666 - val_loss: -142244.1094 - val_accuracy: 0.7677\n",
      "Epoch 5/10\n",
      "3355/3355 [==============================] - 1132s 337ms/step - loss: -176877.9375 - accuracy: 0.7720 - val_loss: -217524.6719 - val_accuracy: 0.7727\n",
      "Epoch 6/10\n",
      "3355/3355 [==============================] - 1137s 339ms/step - loss: -259286.1562 - accuracy: 0.7722 - val_loss: -309732.4375 - val_accuracy: 0.7735\n",
      "Epoch 7/10\n",
      "3355/3355 [==============================] - 1157s 345ms/step - loss: -357486.5938 - accuracy: 0.7754 - val_loss: -415210.8750 - val_accuracy: 0.7740\n",
      "Epoch 8/10\n",
      "3355/3355 [==============================] - 1138s 339ms/step - loss: -464274.6562 - accuracy: 0.7742 - val_loss: -518663.0625 - val_accuracy: 0.7737\n",
      "Epoch 9/10\n",
      "3355/3355 [==============================] - 1177s 351ms/step - loss: -581227.0625 - accuracy: 0.7749 - val_loss: -657321.6250 - val_accuracy: 0.7741\n",
      "Epoch 10/10\n",
      "3355/3355 [==============================] - 1639s 488ms/step - loss: -723634.3125 - accuracy: 0.7755 - val_loss: -806078.2500 - val_accuracy: 0.7740\n"
     ]
    },
    {
     "data": {
      "text/plain": [
       "<keras.callbacks.History at 0x20301762650>"
      ]
     },
     "execution_count": 14,
     "metadata": {},
     "output_type": "execute_result"
    }
   ],
   "source": [
    "model.fit(X_train, y_train, validation_data=(X_test, y_test), epochs=10, batch_size=32, callbacks=[early_stopping])\n"
   ]
  },
  {
   "cell_type": "code",
   "execution_count": 15,
   "id": "58d91d62",
   "metadata": {},
   "outputs": [
    {
     "name": "stdout",
     "output_type": "stream",
     "text": [
      "839/839 [==============================] - 65s 76ms/step\n"
     ]
    }
   ],
   "source": [
    "# Predict probabilities for the test set\n",
    "y_pred_prob = model.predict(X_test)\n",
    "\n",
    "# Convert probabilities to class labels\n",
    "y_pred = np.argmax(y_pred_prob, axis=1)\n",
    "y_pred = label_encoder.inverse_transform(y_pred)\n",
    "\n",
    "# Convert true labels to original class labels\n",
    "y_true = label_encoder.inverse_transform(y_test)\n"
   ]
  },
  {
   "cell_type": "code",
   "execution_count": 16,
   "id": "1c27c021",
   "metadata": {},
   "outputs": [
    {
     "name": "stderr",
     "output_type": "stream",
     "text": [
      "C:\\Users\\maddy\\AppData\\Local\\Programs\\Python\\Python311\\Lib\\site-packages\\sklearn\\metrics\\_classification.py:1344: UndefinedMetricWarning: Precision and F-score are ill-defined and being set to 0.0 in labels with no predicted samples. Use `zero_division` parameter to control this behavior.\n",
      "  _warn_prf(average, modifier, msg_start, len(result))\n",
      "C:\\Users\\maddy\\AppData\\Local\\Programs\\Python\\Python311\\Lib\\site-packages\\sklearn\\metrics\\_classification.py:1344: UndefinedMetricWarning: Precision and F-score are ill-defined and being set to 0.0 in labels with no predicted samples. Use `zero_division` parameter to control this behavior.\n",
      "  _warn_prf(average, modifier, msg_start, len(result))\n"
     ]
    },
    {
     "name": "stdout",
     "output_type": "stream",
     "text": [
      "              precision    recall  f1-score   support\n",
      "\n",
      "    Negative       0.20      1.00      0.33      5271\n",
      "     Neutral       0.00      0.00      0.00     15515\n",
      "    Positive       0.00      0.00      0.00      6054\n",
      "\n",
      "    accuracy                           0.20     26840\n",
      "   macro avg       0.07      0.33      0.11     26840\n",
      "weighted avg       0.04      0.20      0.06     26840\n",
      "\n",
      "[[ 5271     0     0]\n",
      " [15515     0     0]\n",
      " [ 6054     0     0]]\n"
     ]
    },
    {
     "name": "stderr",
     "output_type": "stream",
     "text": [
      "C:\\Users\\maddy\\AppData\\Local\\Programs\\Python\\Python311\\Lib\\site-packages\\sklearn\\metrics\\_classification.py:1344: UndefinedMetricWarning: Precision and F-score are ill-defined and being set to 0.0 in labels with no predicted samples. Use `zero_division` parameter to control this behavior.\n",
      "  _warn_prf(average, modifier, msg_start, len(result))\n"
     ]
    }
   ],
   "source": [
    "# Print classification report\n",
    "print(classification_report(y_true, y_pred))\n",
    "\n",
    "# Print confusion matrix\n",
    "print(confusion_matrix(y_true, y_pred))"
   ]
  },
  {
   "cell_type": "code",
   "execution_count": 17,
   "id": "6aca9ea3",
   "metadata": {},
   "outputs": [],
   "source": [
    "model.save('Bi_dir_LSTM_model.h5')"
   ]
  }
 ],
 "metadata": {
  "kernelspec": {
   "display_name": "Python 3 (ipykernel)",
   "language": "python",
   "name": "python3"
  },
  "language_info": {
   "codemirror_mode": {
    "name": "ipython",
    "version": 3
   },
   "file_extension": ".py",
   "mimetype": "text/x-python",
   "name": "python",
   "nbconvert_exporter": "python",
   "pygments_lexer": "ipython3",
   "version": "3.11.4"
  }
 },
 "nbformat": 4,
 "nbformat_minor": 5
}
