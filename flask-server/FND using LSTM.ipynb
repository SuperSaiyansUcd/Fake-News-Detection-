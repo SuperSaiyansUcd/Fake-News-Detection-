{
 "cells": [
  {
   "cell_type": "code",
   "execution_count": 1,
   "id": "68adcea3",
   "metadata": {},
   "outputs": [
    {
     "name": "stderr",
     "output_type": "stream",
     "text": [
      "[nltk_data] Downloading package vader_lexicon to\n",
      "[nltk_data]     C:\\Users\\maddy\\AppData\\Roaming\\nltk_data...\n",
      "[nltk_data]   Package vader_lexicon is already up-to-date!\n",
      "[nltk_data] Downloading package punkt to\n",
      "[nltk_data]     C:\\Users\\maddy\\AppData\\Roaming\\nltk_data...\n",
      "[nltk_data]   Package punkt is already up-to-date!\n"
     ]
    },
    {
     "data": {
      "text/plain": [
       "True"
      ]
     },
     "execution_count": 1,
     "metadata": {},
     "output_type": "execute_result"
    }
   ],
   "source": [
    "import pandas as pd\n",
    "import numpy as np\n",
    "from sklearn.model_selection import train_test_split\n",
    "from tensorflow.keras.preprocessing.text import Tokenizer\n",
    "from tensorflow.keras.preprocessing.sequence import pad_sequences\n",
    "from tensorflow.keras.models import Sequential, Model\n",
    "from tensorflow.keras.layers import Input, Embedding, LSTM, Bidirectional, Dense, concatenate, Dropout, Input\n",
    "from tensorflow.keras.optimizers import Adam\n",
    "from keras.callbacks import EarlyStopping\n",
    "from sklearn.preprocessing import StandardScaler\n",
    "from keras.regularizers import l1_l2\n",
    "from keras.models import Sequential\n",
    "import tensorflow.compat.v1 as tf\n",
    "from sklearn.model_selection import StratifiedKFold\n",
    "from sklearn.metrics import classification_report\n",
    "from textblob import TextBlob\n",
    "from afinn import Afinn\n",
    "from pattern.en import sentiment\n",
    "import nltk\n",
    "from nltk.sentiment.vader import SentimentIntensityAnalyzer\n",
    "nltk.download('vader_lexicon')\n",
    "nltk.download('punkt')"
   ]
  },
  {
   "cell_type": "code",
   "execution_count": 2,
   "id": "09fe25c6",
   "metadata": {},
   "outputs": [
    {
     "data": {
      "text/html": [
       "<div>\n",
       "<style scoped>\n",
       "    .dataframe tbody tr th:only-of-type {\n",
       "        vertical-align: middle;\n",
       "    }\n",
       "\n",
       "    .dataframe tbody tr th {\n",
       "        vertical-align: top;\n",
       "    }\n",
       "\n",
       "    .dataframe thead th {\n",
       "        text-align: right;\n",
       "    }\n",
       "</style>\n",
       "<table border=\"1\" class=\"dataframe\">\n",
       "  <thead>\n",
       "    <tr style=\"text-align: right;\">\n",
       "      <th></th>\n",
       "      <th>Unnamed: 0</th>\n",
       "      <th>author</th>\n",
       "      <th>statement</th>\n",
       "      <th>target</th>\n",
       "      <th>BinaryNumTarget</th>\n",
       "      <th>manual_keywords</th>\n",
       "      <th>tweet</th>\n",
       "      <th>5_label_majority_answer</th>\n",
       "      <th>3_label_majority_answer</th>\n",
       "      <th>anger</th>\n",
       "      <th>disgust</th>\n",
       "      <th>fear</th>\n",
       "      <th>joy</th>\n",
       "      <th>neutral</th>\n",
       "      <th>sadness</th>\n",
       "      <th>surprise</th>\n",
       "    </tr>\n",
       "  </thead>\n",
       "  <tbody>\n",
       "    <tr>\n",
       "      <th>0</th>\n",
       "      <td>0</td>\n",
       "      <td>D.L. Davis</td>\n",
       "      <td>End of eviction moratorium means millions of A...</td>\n",
       "      <td>True</td>\n",
       "      <td>1.0</td>\n",
       "      <td>Americans, eviction moratorium</td>\n",
       "      <td>@POTUS Biden Blunders - 6 Month Update\\n\\nInfl...</td>\n",
       "      <td>Mostly Agree</td>\n",
       "      <td>Agree</td>\n",
       "      <td>0</td>\n",
       "      <td>0</td>\n",
       "      <td>0</td>\n",
       "      <td>0</td>\n",
       "      <td>0</td>\n",
       "      <td>1</td>\n",
       "      <td>0</td>\n",
       "    </tr>\n",
       "    <tr>\n",
       "      <th>1</th>\n",
       "      <td>1</td>\n",
       "      <td>D.L. Davis</td>\n",
       "      <td>End of eviction moratorium means millions of A...</td>\n",
       "      <td>True</td>\n",
       "      <td>1.0</td>\n",
       "      <td>Americans, eviction moratorium</td>\n",
       "      <td>@S0SickRick @Stairmaster_ @6d6f636869 Not as m...</td>\n",
       "      <td>NO MAJORITY</td>\n",
       "      <td>Agree</td>\n",
       "      <td>0</td>\n",
       "      <td>0</td>\n",
       "      <td>0</td>\n",
       "      <td>0</td>\n",
       "      <td>0</td>\n",
       "      <td>1</td>\n",
       "      <td>0</td>\n",
       "    </tr>\n",
       "    <tr>\n",
       "      <th>2</th>\n",
       "      <td>2</td>\n",
       "      <td>D.L. Davis</td>\n",
       "      <td>End of eviction moratorium means millions of A...</td>\n",
       "      <td>True</td>\n",
       "      <td>1.0</td>\n",
       "      <td>Americans, eviction moratorium</td>\n",
       "      <td>THE SUPREME COURT is siding with super rich pr...</td>\n",
       "      <td>Agree</td>\n",
       "      <td>Agree</td>\n",
       "      <td>0</td>\n",
       "      <td>0</td>\n",
       "      <td>0</td>\n",
       "      <td>0</td>\n",
       "      <td>0</td>\n",
       "      <td>1</td>\n",
       "      <td>0</td>\n",
       "    </tr>\n",
       "    <tr>\n",
       "      <th>3</th>\n",
       "      <td>3</td>\n",
       "      <td>D.L. Davis</td>\n",
       "      <td>End of eviction moratorium means millions of A...</td>\n",
       "      <td>True</td>\n",
       "      <td>1.0</td>\n",
       "      <td>Americans, eviction moratorium</td>\n",
       "      <td>@POTUS Biden Blunders\\n\\nBroken campaign promi...</td>\n",
       "      <td>Mostly Agree</td>\n",
       "      <td>Agree</td>\n",
       "      <td>0</td>\n",
       "      <td>0</td>\n",
       "      <td>0</td>\n",
       "      <td>0</td>\n",
       "      <td>0</td>\n",
       "      <td>1</td>\n",
       "      <td>0</td>\n",
       "    </tr>\n",
       "    <tr>\n",
       "      <th>4</th>\n",
       "      <td>4</td>\n",
       "      <td>D.L. Davis</td>\n",
       "      <td>End of eviction moratorium means millions of A...</td>\n",
       "      <td>True</td>\n",
       "      <td>1.0</td>\n",
       "      <td>Americans, eviction moratorium</td>\n",
       "      <td>@OhComfy I agree. The confluence of events rig...</td>\n",
       "      <td>Agree</td>\n",
       "      <td>Agree</td>\n",
       "      <td>0</td>\n",
       "      <td>0</td>\n",
       "      <td>0</td>\n",
       "      <td>0</td>\n",
       "      <td>0</td>\n",
       "      <td>1</td>\n",
       "      <td>0</td>\n",
       "    </tr>\n",
       "  </tbody>\n",
       "</table>\n",
       "</div>"
      ],
      "text/plain": [
       "   Unnamed: 0      author                                          statement  \\\n",
       "0           0  D.L. Davis  End of eviction moratorium means millions of A...   \n",
       "1           1  D.L. Davis  End of eviction moratorium means millions of A...   \n",
       "2           2  D.L. Davis  End of eviction moratorium means millions of A...   \n",
       "3           3  D.L. Davis  End of eviction moratorium means millions of A...   \n",
       "4           4  D.L. Davis  End of eviction moratorium means millions of A...   \n",
       "\n",
       "   target  BinaryNumTarget                 manual_keywords  \\\n",
       "0    True              1.0  Americans, eviction moratorium   \n",
       "1    True              1.0  Americans, eviction moratorium   \n",
       "2    True              1.0  Americans, eviction moratorium   \n",
       "3    True              1.0  Americans, eviction moratorium   \n",
       "4    True              1.0  Americans, eviction moratorium   \n",
       "\n",
       "                                               tweet 5_label_majority_answer  \\\n",
       "0  @POTUS Biden Blunders - 6 Month Update\\n\\nInfl...            Mostly Agree   \n",
       "1  @S0SickRick @Stairmaster_ @6d6f636869 Not as m...             NO MAJORITY   \n",
       "2  THE SUPREME COURT is siding with super rich pr...                   Agree   \n",
       "3  @POTUS Biden Blunders\\n\\nBroken campaign promi...            Mostly Agree   \n",
       "4  @OhComfy I agree. The confluence of events rig...                   Agree   \n",
       "\n",
       "  3_label_majority_answer  anger  disgust  fear  joy  neutral  sadness  \\\n",
       "0                   Agree      0        0     0    0        0        1   \n",
       "1                   Agree      0        0     0    0        0        1   \n",
       "2                   Agree      0        0     0    0        0        1   \n",
       "3                   Agree      0        0     0    0        0        1   \n",
       "4                   Agree      0        0     0    0        0        1   \n",
       "\n",
       "   surprise  \n",
       "0         0  \n",
       "1         0  \n",
       "2         0  \n",
       "3         0  \n",
       "4         0  "
      ]
     },
     "execution_count": 2,
     "metadata": {},
     "output_type": "execute_result"
    }
   ],
   "source": [
    "df=pd.read_csv('truthseeker_emotions.csv')\n",
    "df.head(5)"
   ]
  },
  {
   "cell_type": "code",
   "execution_count": 3,
   "id": "b5fd93aa",
   "metadata": {},
   "outputs": [],
   "source": [
    "df['textblob'] = df['tweet'].apply(lambda x: TextBlob(x).sentiment.polarity)\n",
    "afinn = Afinn()\n",
    "df['afinn'] = df['tweet'].apply(lambda x: afinn.score(x))\n",
    "df['pattern'] = df['tweet'].apply(lambda x: sentiment(x)[0])\n",
    "analyzer = SentimentIntensityAnalyzer()\n",
    "\n",
    "df['vader'] = df['tweet'].apply(lambda x: analyzer.polarity_scores(x)['compound'])"
   ]
  },
  {
   "cell_type": "code",
   "execution_count": 4,
   "id": "83540130",
   "metadata": {},
   "outputs": [],
   "source": [
    "selected_columns = ['tweet', 'BinaryNumTarget', 'anger', 'disgust', 'fear', 'joy', 'neutral', 'sadness', 'surprise',\n",
    "                    'afinn', 'pattern', 'vader', 'textblob']"
   ]
  },
  {
   "cell_type": "code",
   "execution_count": 5,
   "id": "125f3dd8",
   "metadata": {},
   "outputs": [],
   "source": [
    "df1 = df[selected_columns]"
   ]
  },
  {
   "cell_type": "code",
   "execution_count": 6,
   "id": "1a9109a4",
   "metadata": {},
   "outputs": [
    {
     "data": {
      "text/html": [
       "<div>\n",
       "<style scoped>\n",
       "    .dataframe tbody tr th:only-of-type {\n",
       "        vertical-align: middle;\n",
       "    }\n",
       "\n",
       "    .dataframe tbody tr th {\n",
       "        vertical-align: top;\n",
       "    }\n",
       "\n",
       "    .dataframe thead th {\n",
       "        text-align: right;\n",
       "    }\n",
       "</style>\n",
       "<table border=\"1\" class=\"dataframe\">\n",
       "  <thead>\n",
       "    <tr style=\"text-align: right;\">\n",
       "      <th></th>\n",
       "      <th>tweet</th>\n",
       "      <th>BinaryNumTarget</th>\n",
       "      <th>anger</th>\n",
       "      <th>disgust</th>\n",
       "      <th>fear</th>\n",
       "      <th>joy</th>\n",
       "      <th>neutral</th>\n",
       "      <th>sadness</th>\n",
       "      <th>surprise</th>\n",
       "      <th>afinn</th>\n",
       "      <th>pattern</th>\n",
       "      <th>vader</th>\n",
       "      <th>textblob</th>\n",
       "    </tr>\n",
       "  </thead>\n",
       "  <tbody>\n",
       "    <tr>\n",
       "      <th>0</th>\n",
       "      <td>@POTUS Biden Blunders - 6 Month Update\\n\\nInfl...</td>\n",
       "      <td>1.0</td>\n",
       "      <td>0</td>\n",
       "      <td>0</td>\n",
       "      <td>0</td>\n",
       "      <td>0</td>\n",
       "      <td>0</td>\n",
       "      <td>1</td>\n",
       "      <td>0</td>\n",
       "      <td>-7.0</td>\n",
       "      <td>0.500000</td>\n",
       "      <td>-0.9169</td>\n",
       "      <td>0.500000</td>\n",
       "    </tr>\n",
       "    <tr>\n",
       "      <th>1</th>\n",
       "      <td>@S0SickRick @Stairmaster_ @6d6f636869 Not as m...</td>\n",
       "      <td>1.0</td>\n",
       "      <td>0</td>\n",
       "      <td>0</td>\n",
       "      <td>0</td>\n",
       "      <td>0</td>\n",
       "      <td>0</td>\n",
       "      <td>1</td>\n",
       "      <td>0</td>\n",
       "      <td>-10.0</td>\n",
       "      <td>0.125000</td>\n",
       "      <td>-0.9449</td>\n",
       "      <td>0.125000</td>\n",
       "    </tr>\n",
       "    <tr>\n",
       "      <th>2</th>\n",
       "      <td>THE SUPREME COURT is siding with super rich pr...</td>\n",
       "      <td>1.0</td>\n",
       "      <td>0</td>\n",
       "      <td>0</td>\n",
       "      <td>0</td>\n",
       "      <td>0</td>\n",
       "      <td>0</td>\n",
       "      <td>1</td>\n",
       "      <td>0</td>\n",
       "      <td>1.0</td>\n",
       "      <td>0.206667</td>\n",
       "      <td>-0.3147</td>\n",
       "      <td>0.206667</td>\n",
       "    </tr>\n",
       "  </tbody>\n",
       "</table>\n",
       "</div>"
      ],
      "text/plain": [
       "                                               tweet  BinaryNumTarget  anger  \\\n",
       "0  @POTUS Biden Blunders - 6 Month Update\\n\\nInfl...              1.0      0   \n",
       "1  @S0SickRick @Stairmaster_ @6d6f636869 Not as m...              1.0      0   \n",
       "2  THE SUPREME COURT is siding with super rich pr...              1.0      0   \n",
       "\n",
       "   disgust  fear  joy  neutral  sadness  surprise  afinn   pattern   vader  \\\n",
       "0        0     0    0        0        1         0   -7.0  0.500000 -0.9169   \n",
       "1        0     0    0        0        1         0  -10.0  0.125000 -0.9449   \n",
       "2        0     0    0        0        1         0    1.0  0.206667 -0.3147   \n",
       "\n",
       "   textblob  \n",
       "0  0.500000  \n",
       "1  0.125000  \n",
       "2  0.206667  "
      ]
     },
     "execution_count": 6,
     "metadata": {},
     "output_type": "execute_result"
    }
   ],
   "source": [
    "df1.head(3)"
   ]
  },
  {
   "cell_type": "code",
   "execution_count": 7,
   "id": "a540d773",
   "metadata": {},
   "outputs": [
    {
     "name": "stderr",
     "output_type": "stream",
     "text": [
      "C:\\Users\\maddy\\AppData\\Local\\Temp\\ipykernel_21236\\97325919.py:1: SettingWithCopyWarning: \n",
      "A value is trying to be set on a copy of a slice from a DataFrame.\n",
      "Try using .loc[row_indexer,col_indexer] = value instead\n",
      "\n",
      "See the caveats in the documentation: https://pandas.pydata.org/pandas-docs/stable/user_guide/indexing.html#returning-a-view-versus-a-copy\n",
      "  df1['BinaryNumTarget'] = df1['BinaryNumTarget'].astype(int)\n"
     ]
    }
   ],
   "source": [
    "df1['BinaryNumTarget'] = df1['BinaryNumTarget'].astype(int)"
   ]
  },
  {
   "cell_type": "code",
   "execution_count": 8,
   "id": "974774a6",
   "metadata": {},
   "outputs": [],
   "source": [
    "X_text = df1['tweet'].values\n",
    "X_emotions = df1[['anger', 'disgust', 'fear', 'joy', 'neutral', 'sadness', 'surprise']].values\n",
    "X_scores = df1[['afinn', 'pattern', 'vader', 'textblob']].values\n",
    "y = df1['BinaryNumTarget'].values\n"
   ]
  },
  {
   "cell_type": "code",
   "execution_count": 9,
   "id": "f8a91311",
   "metadata": {},
   "outputs": [
    {
     "name": "stdout",
     "output_type": "stream",
     "text": [
      "Maximum length of statements: 108\n"
     ]
    }
   ],
   "source": [
    "statements = df1['tweet']\n",
    "\n",
    "max_len_text = max(len(statement.split()) for statement in statements)\n",
    "\n",
    "print(\"Maximum length of statements:\", max_len_text)"
   ]
  },
  {
   "cell_type": "code",
   "execution_count": 10,
   "id": "6390183a",
   "metadata": {},
   "outputs": [],
   "source": [
    "max_len_text = max_len_text  \n",
    "tokenizer = Tokenizer()\n",
    "tokenizer.fit_on_texts(X_text)\n",
    "sequences = tokenizer.texts_to_sequences(X_text)\n",
    "X_text_pad = pad_sequences(sequences, maxlen=max_len_text)"
   ]
  },
  {
   "cell_type": "code",
   "execution_count": 11,
   "id": "f9990a6b",
   "metadata": {},
   "outputs": [],
   "source": [
    "embedding_dim = 100  \n",
    "vocab_size = len(tokenizer.word_index) + 1"
   ]
  },
  {
   "cell_type": "code",
   "execution_count": 12,
   "id": "04bea0c2",
   "metadata": {},
   "outputs": [],
   "source": [
    "def create_model():\n",
    "    model_text = Sequential()\n",
    "    model_text.add(Embedding(vocab_size, embedding_dim, input_length=max_len_text))\n",
    "    model_text.add(Bidirectional(LSTM(128))) \n",
    "\n",
    "    model_emotions = Sequential()\n",
    "    model_emotions.add(Dense(64, input_shape=(7,)))  # 7 features for emotions \n",
    "    model_scores = Sequential()\n",
    "    model_scores.add(Dense(64, input_shape=(4,)))  # 4 features for sentiment scores\n",
    "\n",
    "    merged = concatenate([model_text.output, model_emotions.output, model_scores.output])\n",
    "    merged = Dense(64, activation='relu')(merged)\n",
    "    output = Dense(1, activation='sigmoid')(merged)\n",
    "\n",
    "    model = tf.keras.models.Model(inputs=[model_text.input, model_emotions.input, model_scores.input], outputs=output)\n",
    "    model.compile(loss='binary_crossentropy', optimizer='adam', metrics=['accuracy'])\n",
    "    return model"
   ]
  },
  {
   "cell_type": "code",
   "execution_count": 13,
   "id": "b43d5706",
   "metadata": {},
   "outputs": [],
   "source": [
    "n_splits = 5  \n",
    "skf = StratifiedKFold(n_splits=n_splits, shuffle=True, random_state=42)"
   ]
  },
  {
   "cell_type": "code",
   "execution_count": 14,
   "id": "bc8e6254",
   "metadata": {},
   "outputs": [
    {
     "name": "stdout",
     "output_type": "stream",
     "text": [
      "Training Fold 1...\n",
      "Epoch 1/10\n",
      "3355/3355 [==============================] - 702s 209ms/step - loss: 0.1078 - accuracy: 0.9586\n",
      "Epoch 2/10\n",
      "3355/3355 [==============================] - 696s 208ms/step - loss: 0.0316 - accuracy: 0.9899\n",
      "Epoch 3/10\n",
      "3355/3355 [==============================] - 696s 208ms/step - loss: 0.0148 - accuracy: 0.9953\n",
      "Epoch 4/10\n",
      "3355/3355 [==============================] - 696s 208ms/step - loss: 0.0087 - accuracy: 0.9973\n",
      "Epoch 5/10\n",
      "3355/3355 [==============================] - 695s 207ms/step - loss: 0.0059 - accuracy: 0.9982\n",
      "Epoch 6/10\n",
      "3355/3355 [==============================] - 697s 208ms/step - loss: 0.0035 - accuracy: 0.9989\n",
      "Epoch 7/10\n",
      "3355/3355 [==============================] - 697s 208ms/step - loss: 0.0022 - accuracy: 0.9993\n",
      "Epoch 8/10\n",
      "3355/3355 [==============================] - 697s 208ms/step - loss: 0.0016 - accuracy: 0.9995\n",
      "Epoch 9/10\n",
      "3355/3355 [==============================] - 700s 209ms/step - loss: 0.0010 - accuracy: 0.9997\n",
      "Epoch 10/10\n",
      "3355/3355 [==============================] - 700s 209ms/step - loss: 0.0017 - accuracy: 0.9995\n",
      "Training Fold 2...\n",
      "Epoch 1/10\n",
      "3355/3355 [==============================] - 736s 219ms/step - loss: 0.1084 - accuracy: 0.9595\n",
      "Epoch 2/10\n",
      "3355/3355 [==============================] - 731s 218ms/step - loss: 0.0327 - accuracy: 0.9898\n",
      "Epoch 3/10\n",
      "3355/3355 [==============================] - 732s 218ms/step - loss: 0.0156 - accuracy: 0.9948\n",
      "Epoch 4/10\n",
      "3355/3355 [==============================] - 734s 219ms/step - loss: 0.0077 - accuracy: 0.9976\n",
      "Epoch 5/10\n",
      "3355/3355 [==============================] - 732s 218ms/step - loss: 0.0045 - accuracy: 0.9986\n",
      "Epoch 6/10\n",
      "3355/3355 [==============================] - 738s 220ms/step - loss: 0.0035 - accuracy: 0.9990\n",
      "Epoch 7/10\n",
      "3355/3355 [==============================] - 736s 219ms/step - loss: 0.0020 - accuracy: 0.9994\n",
      "Epoch 8/10\n",
      "3355/3355 [==============================] - 736s 219ms/step - loss: 0.0018 - accuracy: 0.9995\n",
      "Epoch 9/10\n",
      "3355/3355 [==============================] - 734s 219ms/step - loss: 7.9841e-04 - accuracy: 0.9997\n",
      "Epoch 10/10\n",
      "3355/3355 [==============================] - 737s 220ms/step - loss: 9.8541e-04 - accuracy: 0.9997\n",
      "Training Fold 3...\n",
      "Epoch 1/10\n",
      "3355/3355 [==============================] - 683s 203ms/step - loss: 0.1092 - accuracy: 0.9598\n",
      "Epoch 2/10\n",
      "3355/3355 [==============================] - 671s 200ms/step - loss: 0.0335 - accuracy: 0.9892\n",
      "Epoch 3/10\n",
      "3355/3355 [==============================] - 672s 200ms/step - loss: 0.0172 - accuracy: 0.9944\n",
      "Epoch 4/10\n",
      "3355/3355 [==============================] - 671s 200ms/step - loss: 0.0094 - accuracy: 0.9970\n",
      "Epoch 5/10\n",
      "3355/3355 [==============================] - 669s 200ms/step - loss: 0.0053 - accuracy: 0.9983\n",
      "Epoch 6/10\n",
      "3355/3355 [==============================] - 671s 200ms/step - loss: 0.0033 - accuracy: 0.9990\n",
      "Epoch 7/10\n",
      "3355/3355 [==============================] - 671s 200ms/step - loss: 0.0025 - accuracy: 0.9992\n",
      "Epoch 8/10\n",
      "3355/3355 [==============================] - 672s 200ms/step - loss: 0.0016 - accuracy: 0.9995\n",
      "Epoch 9/10\n",
      "3355/3355 [==============================] - 666s 199ms/step - loss: 0.0014 - accuracy: 0.9995\n",
      "Epoch 10/10\n",
      "3355/3355 [==============================] - 666s 199ms/step - loss: 6.2562e-04 - accuracy: 0.9998\n",
      "Training Fold 4...\n",
      "Epoch 1/10\n",
      "3355/3355 [==============================] - 676s 201ms/step - loss: 0.1096 - accuracy: 0.9588\n",
      "Epoch 2/10\n",
      "3355/3355 [==============================] - 665s 198ms/step - loss: 0.0326 - accuracy: 0.9893\n",
      "Epoch 3/10\n",
      "3355/3355 [==============================] - 667s 199ms/step - loss: 0.0143 - accuracy: 0.9953\n",
      "Epoch 4/10\n",
      "3355/3355 [==============================] - 665s 198ms/step - loss: 0.0080 - accuracy: 0.9975\n",
      "Epoch 5/10\n",
      "3355/3355 [==============================] - 665s 198ms/step - loss: 0.0043 - accuracy: 0.9986\n",
      "Epoch 6/10\n",
      "3355/3355 [==============================] - 668s 199ms/step - loss: 0.0034 - accuracy: 0.9991\n",
      "Epoch 7/10\n",
      "3355/3355 [==============================] - 667s 199ms/step - loss: 0.0023 - accuracy: 0.9993\n",
      "Epoch 8/10\n",
      "3355/3355 [==============================] - 670s 200ms/step - loss: 0.0014 - accuracy: 0.9996\n",
      "Epoch 9/10\n",
      "3355/3355 [==============================] - 664s 198ms/step - loss: 0.0011 - accuracy: 0.9996\n",
      "Epoch 10/10\n",
      "3355/3355 [==============================] - 666s 198ms/step - loss: 0.0011 - accuracy: 0.9996\n",
      "Training Fold 5...\n",
      "Epoch 1/10\n",
      "3355/3355 [==============================] - 661s 196ms/step - loss: 0.1092 - accuracy: 0.9589\n",
      "Epoch 2/10\n",
      "3355/3355 [==============================] - 660s 197ms/step - loss: 0.0322 - accuracy: 0.9896\n",
      "Epoch 3/10\n",
      "3355/3355 [==============================] - 659s 196ms/step - loss: 0.0154 - accuracy: 0.9950\n",
      "Epoch 4/10\n",
      "3355/3355 [==============================] - 657s 196ms/step - loss: 0.0085 - accuracy: 0.9973\n",
      "Epoch 5/10\n",
      "3355/3355 [==============================] - 656s 195ms/step - loss: 0.0049 - accuracy: 0.9985\n",
      "Epoch 6/10\n",
      "3355/3355 [==============================] - 657s 196ms/step - loss: 0.0036 - accuracy: 0.9989\n",
      "Epoch 7/10\n",
      "3355/3355 [==============================] - 658s 196ms/step - loss: 0.0017 - accuracy: 0.9994\n",
      "Epoch 8/10\n",
      "3355/3355 [==============================] - 658s 196ms/step - loss: 0.0022 - accuracy: 0.9993\n",
      "Epoch 9/10\n",
      "3355/3355 [==============================] - 657s 196ms/step - loss: 0.0013 - accuracy: 0.9996\n",
      "Epoch 10/10\n",
      "3355/3355 [==============================] - 657s 196ms/step - loss: 7.1571e-04 - accuracy: 0.9998\n"
     ]
    }
   ],
   "source": [
    "for fold, (train_index, test_index) in enumerate(skf.split(X_text_pad, y)):\n",
    "    print(f\"Training Fold {fold+1}...\")\n",
    "\n",
    "    X_train_text, X_test_text = X_text_pad[train_index], X_text_pad[test_index]\n",
    "    X_train_emotions, X_test_emotions = X_emotions[train_index], X_emotions[test_index]\n",
    "    X_train_scores, X_test_scores = X_scores[train_index], X_scores[test_index]\n",
    "    y_train, y_test = y[train_index], y[test_index]\n",
    "\n",
    "    model = create_model()\n",
    "    model.fit([X_train_text, X_train_emotions, X_train_scores], y_train, epochs=10, batch_size=32, verbose=1)"
   ]
  },
  {
   "cell_type": "code",
   "execution_count": 15,
   "id": "6631466c",
   "metadata": {},
   "outputs": [
    {
     "name": "stdout",
     "output_type": "stream",
     "text": [
      "839/839 [==============================] - 19s 21ms/step - loss: 0.1378 - accuracy: 0.9789\n",
      "839/839 [==============================] - 19s 23ms/step\n"
     ]
    }
   ],
   "source": [
    "    loss, accuracy = model.evaluate([X_test_text, X_test_emotions, X_test_scores], y_test, batch_size=32)\n",
    "    predictions = model.predict([X_test_text, X_test_emotions, X_test_scores])\n",
    "    predictions = (predictions > 0.5).astype(int)"
   ]
  },
  {
   "cell_type": "code",
   "execution_count": 16,
   "id": "652af5b2",
   "metadata": {},
   "outputs": [],
   "source": [
    "accuracy_scores = []\n",
    "precision_scores = []\n",
    "recall_scores = []\n",
    "f1_scores = []"
   ]
  },
  {
   "cell_type": "code",
   "execution_count": 17,
   "id": "7d0c9c79",
   "metadata": {},
   "outputs": [
    {
     "name": "stdout",
     "output_type": "stream",
     "text": [
      "Fold 5 - Test Accuracy: 0.9789, Precision: 0.9804, Recall: 0.9785, F1-score: 0.9795\n"
     ]
    }
   ],
   "source": [
    "    tn, fp, fn, tp = tf.math.confusion_matrix(y_test, predictions).numpy().ravel()\n",
    "    accuracy_scores.append((tp + tn) / (tp + tn + fp + fn))\n",
    "    precision_scores.append(tp / (tp + fp))\n",
    "    recall_scores.append(tp / (tp + fn))\n",
    "    f1_scores.append(2 * tp / (2 * tp + fp + fn))\n",
    "\n",
    "    print(f'Fold {fold+1} - Test Accuracy: {accuracy_scores[-1]:.4f}, Precision: {precision_scores[-1]:.4f}, Recall: {recall_scores[-1]:.4f}, F1-score: {f1_scores[-1]:.4f}')\n"
   ]
  },
  {
   "cell_type": "code",
   "execution_count": 18,
   "id": "5009da42",
   "metadata": {},
   "outputs": [
    {
     "name": "stdout",
     "output_type": "stream",
     "text": [
      "\n",
      "Average Test Accuracy: 0.9789\n",
      "Average Precision: 0.9804\n",
      "Average Recall: 0.9785\n",
      "Average F1-score: 0.9795\n"
     ]
    }
   ],
   "source": [
    "print(f'\\nAverage Test Accuracy: {np.mean(accuracy_scores):.4f}')\n",
    "print(f'Average Precision: {np.mean(precision_scores):.4f}')\n",
    "print(f'Average Recall: {np.mean(recall_scores):.4f}')\n",
    "print(f'Average F1-score: {np.mean(f1_scores):.4f}')"
   ]
  },
  {
   "cell_type": "code",
   "execution_count": 19,
   "id": "f9f67b7c",
   "metadata": {},
   "outputs": [
    {
     "name": "stdout",
     "output_type": "stream",
     "text": [
      "Epoch 1/10\n",
      "3355/3355 [==============================] - 825s 245ms/step - loss: 0.1110 - accuracy: 0.9579\n",
      "Epoch 2/10\n",
      "3355/3355 [==============================] - 849s 253ms/step - loss: 0.0317 - accuracy: 0.9898\n",
      "Epoch 3/10\n",
      "3355/3355 [==============================] - 923s 275ms/step - loss: 0.0152 - accuracy: 0.9948\n",
      "Epoch 4/10\n",
      "3355/3355 [==============================] - 923s 275ms/step - loss: 0.0079 - accuracy: 0.9975\n",
      "Epoch 5/10\n",
      "3355/3355 [==============================] - 922s 275ms/step - loss: 0.0050 - accuracy: 0.9986\n",
      "Epoch 6/10\n",
      "3355/3355 [==============================] - 908s 271ms/step - loss: 0.0038 - accuracy: 0.9987\n",
      "Epoch 7/10\n",
      "3355/3355 [==============================] - 864s 258ms/step - loss: 0.0025 - accuracy: 0.9992\n",
      "Epoch 8/10\n",
      "3355/3355 [==============================] - 871s 259ms/step - loss: 0.0017 - accuracy: 0.9994\n",
      "Epoch 9/10\n",
      "3355/3355 [==============================] - 922s 275ms/step - loss: 0.0010 - accuracy: 0.9998\n",
      "Epoch 10/10\n",
      "3355/3355 [==============================] - 923s 275ms/step - loss: 0.0014 - accuracy: 0.9996\n"
     ]
    },
    {
     "data": {
      "text/plain": [
       "<keras.callbacks.History at 0x1f7c4a1a950>"
      ]
     },
     "execution_count": 19,
     "metadata": {},
     "output_type": "execute_result"
    }
   ],
   "source": [
    "best_fold = np.argmax(accuracy_scores)\n",
    "X_train_text, X_test_text = X_text_pad[train_index], X_text_pad[test_index]\n",
    "X_train_emotions, X_test_emotions = X_emotions[train_index], X_emotions[test_index]\n",
    "X_train_scores, X_test_scores = X_scores[train_index], X_scores[test_index]\n",
    "y_train, y_test = y[train_index], y[test_index]\n",
    "\n",
    "best_model = create_model()\n",
    "best_model.fit([X_train_text, X_train_emotions, X_train_scores], y_train, epochs=10, batch_size=32, verbose=1)"
   ]
  },
  {
   "cell_type": "code",
   "execution_count": 20,
   "id": "99a7a3f2",
   "metadata": {},
   "outputs": [
    {
     "name": "stdout",
     "output_type": "stream",
     "text": [
      "839/839 [==============================] - 96s 114ms/step - loss: 0.1043 - accuracy: 0.9776\n",
      "Test Loss: 0.1043, Test Accuracy: 0.9776\n",
      "839/839 [==============================] - 89s 106ms/step\n",
      "\n",
      "Classification Report:\n",
      "              precision    recall  f1-score   support\n",
      "\n",
      "           0       0.99      0.97      0.98     13053\n",
      "           1       0.97      0.99      0.98     13786\n",
      "\n",
      "    accuracy                           0.98     26839\n",
      "   macro avg       0.98      0.98      0.98     26839\n",
      "weighted avg       0.98      0.98      0.98     26839\n",
      "\n"
     ]
    }
   ],
   "source": [
    "loss, accuracy = best_model.evaluate([X_test_text, X_test_emotions, X_test_scores], y_test, batch_size=32)\n",
    "print(f'Test Loss: {loss:.4f}, Test Accuracy: {accuracy:.4f}')\n",
    "\n",
    "# Make predictions\n",
    "predictions = best_model.predict([X_test_text, X_test_emotions, X_test_scores])\n",
    "predictions = (predictions > 0.5).astype(int)\n",
    "\n",
    "# Print the classification report\n",
    "print(\"\\nClassification Report:\")\n",
    "print(classification_report(y_test, predictions))"
   ]
  },
  {
   "cell_type": "code",
   "execution_count": 21,
   "id": "2bf0d2e6",
   "metadata": {},
   "outputs": [],
   "source": [
    "best_model.save('fake_news_detection_LSTM.h5')"
   ]
  },
  {
   "cell_type": "code",
   "execution_count": null,
   "id": "c7588ae0",
   "metadata": {},
   "outputs": [],
   "source": []
  }
 ],
 "metadata": {
  "kernelspec": {
   "display_name": "Python 3 (ipykernel)",
   "language": "python",
   "name": "python3"
  },
  "language_info": {
   "codemirror_mode": {
    "name": "ipython",
    "version": 3
   },
   "file_extension": ".py",
   "mimetype": "text/x-python",
   "name": "python",
   "nbconvert_exporter": "python",
   "pygments_lexer": "ipython3",
   "version": "3.11.4"
  }
 },
 "nbformat": 4,
 "nbformat_minor": 5
}
