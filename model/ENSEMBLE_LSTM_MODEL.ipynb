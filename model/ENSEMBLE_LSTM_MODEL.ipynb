{
 "cells": [
  {
   "cell_type": "code",
   "execution_count": 7,
   "id": "0d953db5",
   "metadata": {
    "scrolled": true
   },
   "outputs": [
    {
     "name": "stderr",
     "output_type": "stream",
     "text": [
      "[nltk_data] Downloading package vader_lexicon to\n",
      "[nltk_data]     /Users/faizelahmed/nltk_data...\n",
      "[nltk_data]   Package vader_lexicon is already up-to-date!\n",
      "[nltk_data] Downloading package punkt to\n",
      "[nltk_data]     /Users/faizelahmed/nltk_data...\n",
      "[nltk_data]   Package punkt is already up-to-date!\n"
     ]
    }
   ],
   "source": [
    "import pandas as pd\n",
    "import nltk\n",
    "from nltk.sentiment.vader import SentimentIntensityAnalyzer\n",
    "from textblob import TextBlob\n",
    "from afinn import Afinn\n",
    "from pattern.en import sentiment\n",
    "nltk.download('vader_lexicon')\n",
    "nltk.download('punkt')\n",
    "import numpy as np\n",
    "from sklearn.model_selection import train_test_split\n",
    "from tensorflow.keras.preprocessing.text import Tokenizer\n",
    "from tensorflow.keras.preprocessing.sequence import pad_sequences\n",
    "from tensorflow.keras.models import Sequential, Model\n",
    "from tensorflow.keras.layers import Input, Embedding, LSTM, Bidirectional, Dense, concatenate, Dropout\n",
    "from tensorflow.keras.optimizers import Adam\n",
    "from keras.callbacks import EarlyStopping\n",
    "from sklearn.preprocessing import StandardScaler\n",
    "from keras.layers import BatchNormalization\n",
    "from scikeras.wrappers import KerasClassifier\n",
    "from sklearn.model_selection import GridSearchCV, StratifiedKFold\n",
    "from keras.layers import Embedding, GRU, Dense, concatenate, Input\n",
    "from keras.regularizers import l1_l2\n",
    "from keras.models import Sequential\n",
    "import tensorflow.compat.v1 as tf"
   ]
  },
  {
   "cell_type": "code",
   "execution_count": 8,
   "id": "776347f2",
   "metadata": {},
   "outputs": [],
   "source": [
    "df=pd.read_csv('truthseeker_emotions.csv')"
   ]
  },
  {
   "cell_type": "code",
   "execution_count": 9,
   "id": "c92ac530",
   "metadata": {
    "scrolled": true
   },
   "outputs": [
    {
     "data": {
      "text/html": [
       "<div>\n",
       "<style scoped>\n",
       "    .dataframe tbody tr th:only-of-type {\n",
       "        vertical-align: middle;\n",
       "    }\n",
       "\n",
       "    .dataframe tbody tr th {\n",
       "        vertical-align: top;\n",
       "    }\n",
       "\n",
       "    .dataframe thead th {\n",
       "        text-align: right;\n",
       "    }\n",
       "</style>\n",
       "<table border=\"1\" class=\"dataframe\">\n",
       "  <thead>\n",
       "    <tr style=\"text-align: right;\">\n",
       "      <th></th>\n",
       "      <th>Unnamed: 0</th>\n",
       "      <th>author</th>\n",
       "      <th>statement</th>\n",
       "      <th>target</th>\n",
       "      <th>BinaryNumTarget</th>\n",
       "      <th>manual_keywords</th>\n",
       "      <th>tweet</th>\n",
       "      <th>5_label_majority_answer</th>\n",
       "      <th>3_label_majority_answer</th>\n",
       "      <th>anger</th>\n",
       "      <th>disgust</th>\n",
       "      <th>fear</th>\n",
       "      <th>joy</th>\n",
       "      <th>neutral</th>\n",
       "      <th>sadness</th>\n",
       "      <th>surprise</th>\n",
       "    </tr>\n",
       "  </thead>\n",
       "  <tbody>\n",
       "    <tr>\n",
       "      <th>0</th>\n",
       "      <td>0</td>\n",
       "      <td>D.L. Davis</td>\n",
       "      <td>End of eviction moratorium means millions of A...</td>\n",
       "      <td>True</td>\n",
       "      <td>1.0</td>\n",
       "      <td>Americans, eviction moratorium</td>\n",
       "      <td>@POTUS Biden Blunders - 6 Month Update\\n\\nInfl...</td>\n",
       "      <td>Mostly Agree</td>\n",
       "      <td>Agree</td>\n",
       "      <td>0</td>\n",
       "      <td>0</td>\n",
       "      <td>0</td>\n",
       "      <td>0</td>\n",
       "      <td>0</td>\n",
       "      <td>1</td>\n",
       "      <td>0</td>\n",
       "    </tr>\n",
       "    <tr>\n",
       "      <th>1</th>\n",
       "      <td>1</td>\n",
       "      <td>D.L. Davis</td>\n",
       "      <td>End of eviction moratorium means millions of A...</td>\n",
       "      <td>True</td>\n",
       "      <td>1.0</td>\n",
       "      <td>Americans, eviction moratorium</td>\n",
       "      <td>@S0SickRick @Stairmaster_ @6d6f636869 Not as m...</td>\n",
       "      <td>NO MAJORITY</td>\n",
       "      <td>Agree</td>\n",
       "      <td>0</td>\n",
       "      <td>0</td>\n",
       "      <td>0</td>\n",
       "      <td>0</td>\n",
       "      <td>0</td>\n",
       "      <td>1</td>\n",
       "      <td>0</td>\n",
       "    </tr>\n",
       "    <tr>\n",
       "      <th>2</th>\n",
       "      <td>2</td>\n",
       "      <td>D.L. Davis</td>\n",
       "      <td>End of eviction moratorium means millions of A...</td>\n",
       "      <td>True</td>\n",
       "      <td>1.0</td>\n",
       "      <td>Americans, eviction moratorium</td>\n",
       "      <td>THE SUPREME COURT is siding with super rich pr...</td>\n",
       "      <td>Agree</td>\n",
       "      <td>Agree</td>\n",
       "      <td>0</td>\n",
       "      <td>0</td>\n",
       "      <td>0</td>\n",
       "      <td>0</td>\n",
       "      <td>0</td>\n",
       "      <td>1</td>\n",
       "      <td>0</td>\n",
       "    </tr>\n",
       "  </tbody>\n",
       "</table>\n",
       "</div>"
      ],
      "text/plain": [
       "   Unnamed: 0      author                                          statement  \\\n",
       "0           0  D.L. Davis  End of eviction moratorium means millions of A...   \n",
       "1           1  D.L. Davis  End of eviction moratorium means millions of A...   \n",
       "2           2  D.L. Davis  End of eviction moratorium means millions of A...   \n",
       "\n",
       "   target  BinaryNumTarget                 manual_keywords  \\\n",
       "0    True              1.0  Americans, eviction moratorium   \n",
       "1    True              1.0  Americans, eviction moratorium   \n",
       "2    True              1.0  Americans, eviction moratorium   \n",
       "\n",
       "                                               tweet 5_label_majority_answer  \\\n",
       "0  @POTUS Biden Blunders - 6 Month Update\\n\\nInfl...            Mostly Agree   \n",
       "1  @S0SickRick @Stairmaster_ @6d6f636869 Not as m...             NO MAJORITY   \n",
       "2  THE SUPREME COURT is siding with super rich pr...                   Agree   \n",
       "\n",
       "  3_label_majority_answer  anger  disgust  fear  joy  neutral  sadness  \\\n",
       "0                   Agree      0        0     0    0        0        1   \n",
       "1                   Agree      0        0     0    0        0        1   \n",
       "2                   Agree      0        0     0    0        0        1   \n",
       "\n",
       "   surprise  \n",
       "0         0  \n",
       "1         0  \n",
       "2         0  "
      ]
     },
     "execution_count": 9,
     "metadata": {},
     "output_type": "execute_result"
    }
   ],
   "source": [
    "df.head(3)"
   ]
  },
  {
   "cell_type": "code",
   "execution_count": 10,
   "id": "8e452c54",
   "metadata": {},
   "outputs": [],
   "source": [
    "df['textblob'] = df['statement'].apply(lambda x: TextBlob(x).sentiment.polarity)\n",
    "afinn = Afinn()\n",
    "df['afinn'] = df['statement'].apply(lambda x: afinn.score(x))\n",
    "df['pattern'] = df['statement'].apply(lambda x: sentiment(x)[0])\n",
    "analyzer = SentimentIntensityAnalyzer()\n",
    "\n",
    "df['vader'] = df['statement'].apply(lambda x: analyzer.polarity_scores(x)['compound'])\n"
   ]
  },
  {
   "cell_type": "code",
   "execution_count": 11,
   "id": "6e70be75",
   "metadata": {},
   "outputs": [
    {
     "data": {
      "text/html": [
       "<div>\n",
       "<style scoped>\n",
       "    .dataframe tbody tr th:only-of-type {\n",
       "        vertical-align: middle;\n",
       "    }\n",
       "\n",
       "    .dataframe tbody tr th {\n",
       "        vertical-align: top;\n",
       "    }\n",
       "\n",
       "    .dataframe thead th {\n",
       "        text-align: right;\n",
       "    }\n",
       "</style>\n",
       "<table border=\"1\" class=\"dataframe\">\n",
       "  <thead>\n",
       "    <tr style=\"text-align: right;\">\n",
       "      <th></th>\n",
       "      <th>Unnamed: 0</th>\n",
       "      <th>author</th>\n",
       "      <th>statement</th>\n",
       "      <th>target</th>\n",
       "      <th>BinaryNumTarget</th>\n",
       "      <th>manual_keywords</th>\n",
       "      <th>tweet</th>\n",
       "      <th>5_label_majority_answer</th>\n",
       "      <th>3_label_majority_answer</th>\n",
       "      <th>anger</th>\n",
       "      <th>disgust</th>\n",
       "      <th>fear</th>\n",
       "      <th>joy</th>\n",
       "      <th>neutral</th>\n",
       "      <th>sadness</th>\n",
       "      <th>surprise</th>\n",
       "      <th>textblob</th>\n",
       "      <th>afinn</th>\n",
       "      <th>pattern</th>\n",
       "      <th>vader</th>\n",
       "    </tr>\n",
       "  </thead>\n",
       "  <tbody>\n",
       "    <tr>\n",
       "      <th>0</th>\n",
       "      <td>0</td>\n",
       "      <td>D.L. Davis</td>\n",
       "      <td>End of eviction moratorium means millions of A...</td>\n",
       "      <td>True</td>\n",
       "      <td>1.0</td>\n",
       "      <td>Americans, eviction moratorium</td>\n",
       "      <td>@POTUS Biden Blunders - 6 Month Update\\n\\nInfl...</td>\n",
       "      <td>Mostly Agree</td>\n",
       "      <td>Agree</td>\n",
       "      <td>0</td>\n",
       "      <td>0</td>\n",
       "      <td>0</td>\n",
       "      <td>0</td>\n",
       "      <td>0</td>\n",
       "      <td>1</td>\n",
       "      <td>0</td>\n",
       "      <td>0.0</td>\n",
       "      <td>-1.0</td>\n",
       "      <td>0.0</td>\n",
       "      <td>-0.6908</td>\n",
       "    </tr>\n",
       "    <tr>\n",
       "      <th>1</th>\n",
       "      <td>1</td>\n",
       "      <td>D.L. Davis</td>\n",
       "      <td>End of eviction moratorium means millions of A...</td>\n",
       "      <td>True</td>\n",
       "      <td>1.0</td>\n",
       "      <td>Americans, eviction moratorium</td>\n",
       "      <td>@S0SickRick @Stairmaster_ @6d6f636869 Not as m...</td>\n",
       "      <td>NO MAJORITY</td>\n",
       "      <td>Agree</td>\n",
       "      <td>0</td>\n",
       "      <td>0</td>\n",
       "      <td>0</td>\n",
       "      <td>0</td>\n",
       "      <td>0</td>\n",
       "      <td>1</td>\n",
       "      <td>0</td>\n",
       "      <td>0.0</td>\n",
       "      <td>-1.0</td>\n",
       "      <td>0.0</td>\n",
       "      <td>-0.6908</td>\n",
       "    </tr>\n",
       "    <tr>\n",
       "      <th>2</th>\n",
       "      <td>2</td>\n",
       "      <td>D.L. Davis</td>\n",
       "      <td>End of eviction moratorium means millions of A...</td>\n",
       "      <td>True</td>\n",
       "      <td>1.0</td>\n",
       "      <td>Americans, eviction moratorium</td>\n",
       "      <td>THE SUPREME COURT is siding with super rich pr...</td>\n",
       "      <td>Agree</td>\n",
       "      <td>Agree</td>\n",
       "      <td>0</td>\n",
       "      <td>0</td>\n",
       "      <td>0</td>\n",
       "      <td>0</td>\n",
       "      <td>0</td>\n",
       "      <td>1</td>\n",
       "      <td>0</td>\n",
       "      <td>0.0</td>\n",
       "      <td>-1.0</td>\n",
       "      <td>0.0</td>\n",
       "      <td>-0.6908</td>\n",
       "    </tr>\n",
       "  </tbody>\n",
       "</table>\n",
       "</div>"
      ],
      "text/plain": [
       "   Unnamed: 0      author                                          statement  \\\n",
       "0           0  D.L. Davis  End of eviction moratorium means millions of A...   \n",
       "1           1  D.L. Davis  End of eviction moratorium means millions of A...   \n",
       "2           2  D.L. Davis  End of eviction moratorium means millions of A...   \n",
       "\n",
       "   target  BinaryNumTarget                 manual_keywords  \\\n",
       "0    True              1.0  Americans, eviction moratorium   \n",
       "1    True              1.0  Americans, eviction moratorium   \n",
       "2    True              1.0  Americans, eviction moratorium   \n",
       "\n",
       "                                               tweet 5_label_majority_answer  \\\n",
       "0  @POTUS Biden Blunders - 6 Month Update\\n\\nInfl...            Mostly Agree   \n",
       "1  @S0SickRick @Stairmaster_ @6d6f636869 Not as m...             NO MAJORITY   \n",
       "2  THE SUPREME COURT is siding with super rich pr...                   Agree   \n",
       "\n",
       "  3_label_majority_answer  anger  disgust  fear  joy  neutral  sadness  \\\n",
       "0                   Agree      0        0     0    0        0        1   \n",
       "1                   Agree      0        0     0    0        0        1   \n",
       "2                   Agree      0        0     0    0        0        1   \n",
       "\n",
       "   surprise  textblob  afinn  pattern   vader  \n",
       "0         0       0.0   -1.0      0.0 -0.6908  \n",
       "1         0       0.0   -1.0      0.0 -0.6908  \n",
       "2         0       0.0   -1.0      0.0 -0.6908  "
      ]
     },
     "execution_count": 11,
     "metadata": {},
     "output_type": "execute_result"
    }
   ],
   "source": [
    "df.head(3)"
   ]
  },
  {
   "cell_type": "code",
   "execution_count": 12,
   "id": "3132d284",
   "metadata": {},
   "outputs": [],
   "source": [
    "import numpy as np\n",
    "import pandas as pd\n",
    "import tensorflow as tf\n",
    "from tensorflow.keras.preprocessing.text import Tokenizer\n",
    "from tensorflow.keras.preprocessing.sequence import pad_sequences\n",
    "from tensorflow.keras.models import Sequential\n",
    "from tensorflow.keras.layers import Embedding, LSTM, Bidirectional, Dense"
   ]
  },
  {
   "cell_type": "code",
   "execution_count": 13,
   "id": "070dcbba",
   "metadata": {},
   "outputs": [],
   "source": [
    "selected_columns = ['statement', 'BinaryNumTarget', 'anger', 'disgust', 'fear', 'joy', 'neutral', 'sadness', 'surprise',\n",
    "                    'afinn', 'pattern', 'vader', 'textblob']"
   ]
  },
  {
   "cell_type": "code",
   "execution_count": 14,
   "id": "a33fdbbc",
   "metadata": {},
   "outputs": [],
   "source": [
    "data = df[selected_columns]\n"
   ]
  },
  {
   "cell_type": "code",
   "execution_count": 15,
   "id": "86cb61a6",
   "metadata": {},
   "outputs": [
    {
     "data": {
      "text/html": [
       "<div>\n",
       "<style scoped>\n",
       "    .dataframe tbody tr th:only-of-type {\n",
       "        vertical-align: middle;\n",
       "    }\n",
       "\n",
       "    .dataframe tbody tr th {\n",
       "        vertical-align: top;\n",
       "    }\n",
       "\n",
       "    .dataframe thead th {\n",
       "        text-align: right;\n",
       "    }\n",
       "</style>\n",
       "<table border=\"1\" class=\"dataframe\">\n",
       "  <thead>\n",
       "    <tr style=\"text-align: right;\">\n",
       "      <th></th>\n",
       "      <th>statement</th>\n",
       "      <th>BinaryNumTarget</th>\n",
       "      <th>anger</th>\n",
       "      <th>disgust</th>\n",
       "      <th>fear</th>\n",
       "      <th>joy</th>\n",
       "      <th>neutral</th>\n",
       "      <th>sadness</th>\n",
       "      <th>surprise</th>\n",
       "      <th>afinn</th>\n",
       "      <th>pattern</th>\n",
       "      <th>vader</th>\n",
       "      <th>textblob</th>\n",
       "    </tr>\n",
       "  </thead>\n",
       "  <tbody>\n",
       "    <tr>\n",
       "      <th>0</th>\n",
       "      <td>End of eviction moratorium means millions of A...</td>\n",
       "      <td>1.0</td>\n",
       "      <td>0</td>\n",
       "      <td>0</td>\n",
       "      <td>0</td>\n",
       "      <td>0</td>\n",
       "      <td>0</td>\n",
       "      <td>1</td>\n",
       "      <td>0</td>\n",
       "      <td>-1.0</td>\n",
       "      <td>0.0</td>\n",
       "      <td>-0.6908</td>\n",
       "      <td>0.0</td>\n",
       "    </tr>\n",
       "    <tr>\n",
       "      <th>1</th>\n",
       "      <td>End of eviction moratorium means millions of A...</td>\n",
       "      <td>1.0</td>\n",
       "      <td>0</td>\n",
       "      <td>0</td>\n",
       "      <td>0</td>\n",
       "      <td>0</td>\n",
       "      <td>0</td>\n",
       "      <td>1</td>\n",
       "      <td>0</td>\n",
       "      <td>-1.0</td>\n",
       "      <td>0.0</td>\n",
       "      <td>-0.6908</td>\n",
       "      <td>0.0</td>\n",
       "    </tr>\n",
       "    <tr>\n",
       "      <th>2</th>\n",
       "      <td>End of eviction moratorium means millions of A...</td>\n",
       "      <td>1.0</td>\n",
       "      <td>0</td>\n",
       "      <td>0</td>\n",
       "      <td>0</td>\n",
       "      <td>0</td>\n",
       "      <td>0</td>\n",
       "      <td>1</td>\n",
       "      <td>0</td>\n",
       "      <td>-1.0</td>\n",
       "      <td>0.0</td>\n",
       "      <td>-0.6908</td>\n",
       "      <td>0.0</td>\n",
       "    </tr>\n",
       "    <tr>\n",
       "      <th>3</th>\n",
       "      <td>End of eviction moratorium means millions of A...</td>\n",
       "      <td>1.0</td>\n",
       "      <td>0</td>\n",
       "      <td>0</td>\n",
       "      <td>0</td>\n",
       "      <td>0</td>\n",
       "      <td>0</td>\n",
       "      <td>1</td>\n",
       "      <td>0</td>\n",
       "      <td>-1.0</td>\n",
       "      <td>0.0</td>\n",
       "      <td>-0.6908</td>\n",
       "      <td>0.0</td>\n",
       "    </tr>\n",
       "    <tr>\n",
       "      <th>4</th>\n",
       "      <td>End of eviction moratorium means millions of A...</td>\n",
       "      <td>1.0</td>\n",
       "      <td>0</td>\n",
       "      <td>0</td>\n",
       "      <td>0</td>\n",
       "      <td>0</td>\n",
       "      <td>0</td>\n",
       "      <td>1</td>\n",
       "      <td>0</td>\n",
       "      <td>-1.0</td>\n",
       "      <td>0.0</td>\n",
       "      <td>-0.6908</td>\n",
       "      <td>0.0</td>\n",
       "    </tr>\n",
       "    <tr>\n",
       "      <th>...</th>\n",
       "      <td>...</td>\n",
       "      <td>...</td>\n",
       "      <td>...</td>\n",
       "      <td>...</td>\n",
       "      <td>...</td>\n",
       "      <td>...</td>\n",
       "      <td>...</td>\n",
       "      <td>...</td>\n",
       "      <td>...</td>\n",
       "      <td>...</td>\n",
       "      <td>...</td>\n",
       "      <td>...</td>\n",
       "      <td>...</td>\n",
       "    </tr>\n",
       "    <tr>\n",
       "      <th>134193</th>\n",
       "      <td>Joe Bidens great-grandfather Joseph J. Biden w...</td>\n",
       "      <td>0.0</td>\n",
       "      <td>1</td>\n",
       "      <td>0</td>\n",
       "      <td>0</td>\n",
       "      <td>0</td>\n",
       "      <td>0</td>\n",
       "      <td>0</td>\n",
       "      <td>0</td>\n",
       "      <td>0.0</td>\n",
       "      <td>0.0</td>\n",
       "      <td>-0.3182</td>\n",
       "      <td>0.0</td>\n",
       "    </tr>\n",
       "    <tr>\n",
       "      <th>134194</th>\n",
       "      <td>Joe Bidens great-grandfather Joseph J. Biden w...</td>\n",
       "      <td>0.0</td>\n",
       "      <td>1</td>\n",
       "      <td>0</td>\n",
       "      <td>0</td>\n",
       "      <td>0</td>\n",
       "      <td>0</td>\n",
       "      <td>0</td>\n",
       "      <td>0</td>\n",
       "      <td>0.0</td>\n",
       "      <td>0.0</td>\n",
       "      <td>-0.3182</td>\n",
       "      <td>0.0</td>\n",
       "    </tr>\n",
       "    <tr>\n",
       "      <th>134195</th>\n",
       "      <td>Joe Bidens great-grandfather Joseph J. Biden w...</td>\n",
       "      <td>0.0</td>\n",
       "      <td>1</td>\n",
       "      <td>0</td>\n",
       "      <td>0</td>\n",
       "      <td>0</td>\n",
       "      <td>0</td>\n",
       "      <td>0</td>\n",
       "      <td>0</td>\n",
       "      <td>0.0</td>\n",
       "      <td>0.0</td>\n",
       "      <td>-0.3182</td>\n",
       "      <td>0.0</td>\n",
       "    </tr>\n",
       "    <tr>\n",
       "      <th>134196</th>\n",
       "      <td>Joe Bidens great-grandfather Joseph J. Biden w...</td>\n",
       "      <td>0.0</td>\n",
       "      <td>1</td>\n",
       "      <td>0</td>\n",
       "      <td>0</td>\n",
       "      <td>0</td>\n",
       "      <td>0</td>\n",
       "      <td>0</td>\n",
       "      <td>0</td>\n",
       "      <td>0.0</td>\n",
       "      <td>0.0</td>\n",
       "      <td>-0.3182</td>\n",
       "      <td>0.0</td>\n",
       "    </tr>\n",
       "    <tr>\n",
       "      <th>134197</th>\n",
       "      <td>Joe Bidens great-grandfather Joseph J. Biden w...</td>\n",
       "      <td>0.0</td>\n",
       "      <td>1</td>\n",
       "      <td>0</td>\n",
       "      <td>0</td>\n",
       "      <td>0</td>\n",
       "      <td>0</td>\n",
       "      <td>0</td>\n",
       "      <td>0</td>\n",
       "      <td>0.0</td>\n",
       "      <td>0.0</td>\n",
       "      <td>-0.3182</td>\n",
       "      <td>0.0</td>\n",
       "    </tr>\n",
       "  </tbody>\n",
       "</table>\n",
       "<p>134198 rows × 13 columns</p>\n",
       "</div>"
      ],
      "text/plain": [
       "                                                statement  BinaryNumTarget  \\\n",
       "0       End of eviction moratorium means millions of A...              1.0   \n",
       "1       End of eviction moratorium means millions of A...              1.0   \n",
       "2       End of eviction moratorium means millions of A...              1.0   \n",
       "3       End of eviction moratorium means millions of A...              1.0   \n",
       "4       End of eviction moratorium means millions of A...              1.0   \n",
       "...                                                   ...              ...   \n",
       "134193  Joe Bidens great-grandfather Joseph J. Biden w...              0.0   \n",
       "134194  Joe Bidens great-grandfather Joseph J. Biden w...              0.0   \n",
       "134195  Joe Bidens great-grandfather Joseph J. Biden w...              0.0   \n",
       "134196  Joe Bidens great-grandfather Joseph J. Biden w...              0.0   \n",
       "134197  Joe Bidens great-grandfather Joseph J. Biden w...              0.0   \n",
       "\n",
       "        anger  disgust  fear  joy  neutral  sadness  surprise  afinn  pattern  \\\n",
       "0           0        0     0    0        0        1         0   -1.0      0.0   \n",
       "1           0        0     0    0        0        1         0   -1.0      0.0   \n",
       "2           0        0     0    0        0        1         0   -1.0      0.0   \n",
       "3           0        0     0    0        0        1         0   -1.0      0.0   \n",
       "4           0        0     0    0        0        1         0   -1.0      0.0   \n",
       "...       ...      ...   ...  ...      ...      ...       ...    ...      ...   \n",
       "134193      1        0     0    0        0        0         0    0.0      0.0   \n",
       "134194      1        0     0    0        0        0         0    0.0      0.0   \n",
       "134195      1        0     0    0        0        0         0    0.0      0.0   \n",
       "134196      1        0     0    0        0        0         0    0.0      0.0   \n",
       "134197      1        0     0    0        0        0         0    0.0      0.0   \n",
       "\n",
       "         vader  textblob  \n",
       "0      -0.6908       0.0  \n",
       "1      -0.6908       0.0  \n",
       "2      -0.6908       0.0  \n",
       "3      -0.6908       0.0  \n",
       "4      -0.6908       0.0  \n",
       "...        ...       ...  \n",
       "134193 -0.3182       0.0  \n",
       "134194 -0.3182       0.0  \n",
       "134195 -0.3182       0.0  \n",
       "134196 -0.3182       0.0  \n",
       "134197 -0.3182       0.0  \n",
       "\n",
       "[134198 rows x 13 columns]"
      ]
     },
     "execution_count": 15,
     "metadata": {},
     "output_type": "execute_result"
    }
   ],
   "source": [
    "data"
   ]
  },
  {
   "cell_type": "code",
   "execution_count": 16,
   "id": "f889be73",
   "metadata": {
    "scrolled": true
   },
   "outputs": [],
   "source": [
    "df1=df"
   ]
  },
  {
   "cell_type": "code",
   "execution_count": 17,
   "id": "75d38ec8",
   "metadata": {},
   "outputs": [
    {
     "name": "stdout",
     "output_type": "stream",
     "text": [
      "Unnamed: 0                                                        9002629269\n",
      "author                     D.L. DavisD.L. DavisD.L. DavisD.L. DavisD.L. D...\n",
      "statement                  End of eviction moratorium means millions of A...\n",
      "target                                                                 68911\n",
      "BinaryNumTarget                                                      68911.0\n",
      "manual_keywords            Americans, eviction moratoriumAmericans, evict...\n",
      "tweet                      @POTUS Biden Blunders - 6 Month Update\\n\\nInfl...\n",
      "5_label_majority_answer    Mostly AgreeNO MAJORITYAgreeMostly AgreeAgreeA...\n",
      "3_label_majority_answer    AgreeAgreeAgreeAgreeAgreeAgreeAgreeAgreeAgreeA...\n",
      "anger                                                                  12384\n",
      "disgust                                                                16788\n",
      "fear                                                                    6739\n",
      "joy                                                                     2825\n",
      "neutral                                                                83063\n",
      "sadness                                                                 7246\n",
      "surprise                                                                5122\n",
      "textblob                                                         6731.022821\n",
      "afinn                                                               -80020.0\n",
      "pattern                                                          6408.871432\n",
      "vader                                                            -10507.8596\n",
      "dtype: object\n"
     ]
    }
   ],
   "source": [
    "duplicates = df1[df1.duplicated(subset=['statement'], keep=False)].sum()\n",
    "\n",
    "# Display the duplicate rows\n",
    "print(duplicates)"
   ]
  },
  {
   "cell_type": "code",
   "execution_count": 18,
   "id": "fb3b9db4",
   "metadata": {},
   "outputs": [],
   "source": [
    "df1.drop_duplicates(subset=['statement'], inplace=True)\n"
   ]
  },
  {
   "cell_type": "code",
   "execution_count": 19,
   "id": "48bad1d7",
   "metadata": {},
   "outputs": [],
   "source": [
    "df1['BinaryNumTarget'] = df1['BinaryNumTarget'].astype(int)"
   ]
  },
  {
   "cell_type": "code",
   "execution_count": 20,
   "id": "86f1678b",
   "metadata": {},
   "outputs": [],
   "source": [
    "emotions_columns = ['anger', 'disgust', 'fear', 'joy', 'neutral', 'sadness', 'surprise']\n",
    "df1[emotions_columns] = df1[emotions_columns].astype(float)"
   ]
  },
  {
   "cell_type": "code",
   "execution_count": 21,
   "id": "17a509de",
   "metadata": {},
   "outputs": [],
   "source": [
    "df1.dropna(inplace=True)"
   ]
  },
  {
   "cell_type": "code",
   "execution_count": 22,
   "id": "c0b7732a",
   "metadata": {},
   "outputs": [
    {
     "data": {
      "text/html": [
       "<div>\n",
       "<style scoped>\n",
       "    .dataframe tbody tr th:only-of-type {\n",
       "        vertical-align: middle;\n",
       "    }\n",
       "\n",
       "    .dataframe tbody tr th {\n",
       "        vertical-align: top;\n",
       "    }\n",
       "\n",
       "    .dataframe thead th {\n",
       "        text-align: right;\n",
       "    }\n",
       "</style>\n",
       "<table border=\"1\" class=\"dataframe\">\n",
       "  <thead>\n",
       "    <tr style=\"text-align: right;\">\n",
       "      <th></th>\n",
       "      <th>Unnamed: 0</th>\n",
       "      <th>author</th>\n",
       "      <th>statement</th>\n",
       "      <th>target</th>\n",
       "      <th>BinaryNumTarget</th>\n",
       "      <th>manual_keywords</th>\n",
       "      <th>tweet</th>\n",
       "      <th>5_label_majority_answer</th>\n",
       "      <th>3_label_majority_answer</th>\n",
       "      <th>anger</th>\n",
       "      <th>disgust</th>\n",
       "      <th>fear</th>\n",
       "      <th>joy</th>\n",
       "      <th>neutral</th>\n",
       "      <th>sadness</th>\n",
       "      <th>surprise</th>\n",
       "      <th>textblob</th>\n",
       "      <th>afinn</th>\n",
       "      <th>pattern</th>\n",
       "      <th>vader</th>\n",
       "    </tr>\n",
       "  </thead>\n",
       "  <tbody>\n",
       "    <tr>\n",
       "      <th>0</th>\n",
       "      <td>0</td>\n",
       "      <td>D.L. Davis</td>\n",
       "      <td>End of eviction moratorium means millions of A...</td>\n",
       "      <td>True</td>\n",
       "      <td>1</td>\n",
       "      <td>Americans, eviction moratorium</td>\n",
       "      <td>@POTUS Biden Blunders - 6 Month Update\\n\\nInfl...</td>\n",
       "      <td>Mostly Agree</td>\n",
       "      <td>Agree</td>\n",
       "      <td>0.0</td>\n",
       "      <td>0.0</td>\n",
       "      <td>0.0</td>\n",
       "      <td>0.0</td>\n",
       "      <td>0.0</td>\n",
       "      <td>1.0</td>\n",
       "      <td>0.0</td>\n",
       "      <td>0.0</td>\n",
       "      <td>-1.0</td>\n",
       "      <td>0.0</td>\n",
       "      <td>-0.6908</td>\n",
       "    </tr>\n",
       "  </tbody>\n",
       "</table>\n",
       "</div>"
      ],
      "text/plain": [
       "   Unnamed: 0      author                                          statement  \\\n",
       "0           0  D.L. Davis  End of eviction moratorium means millions of A...   \n",
       "\n",
       "   target  BinaryNumTarget                 manual_keywords  \\\n",
       "0    True                1  Americans, eviction moratorium   \n",
       "\n",
       "                                               tweet 5_label_majority_answer  \\\n",
       "0  @POTUS Biden Blunders - 6 Month Update\\n\\nInfl...            Mostly Agree   \n",
       "\n",
       "  3_label_majority_answer  anger  disgust  fear  joy  neutral  sadness  \\\n",
       "0                   Agree    0.0      0.0   0.0  0.0      0.0      1.0   \n",
       "\n",
       "   surprise  textblob  afinn  pattern   vader  \n",
       "0       0.0       0.0   -1.0      0.0 -0.6908  "
      ]
     },
     "execution_count": 22,
     "metadata": {},
     "output_type": "execute_result"
    }
   ],
   "source": [
    "df1.head(1)"
   ]
  },
  {
   "cell_type": "code",
   "execution_count": 23,
   "id": "d206e7c1",
   "metadata": {},
   "outputs": [],
   "source": [
    "X_text = df1['statement'].values\n",
    "X_emotions = df1[['anger', 'disgust', 'fear', 'joy', 'neutral', 'sadness', 'surprise']].values\n",
    "X_scores = df1[['afinn', 'pattern', 'vader', 'textblob']].values\n",
    "y = df1['BinaryNumTarget'].values\n"
   ]
  },
  {
   "cell_type": "code",
   "execution_count": 24,
   "id": "916d0c98",
   "metadata": {},
   "outputs": [
    {
     "name": "stdout",
     "output_type": "stream",
     "text": [
      "Maximum length of statements: 48\n"
     ]
    }
   ],
   "source": [
    "statements = df1['statement']\n",
    "\n",
    "max_len_text = max(len(statement.split()) for statement in statements)\n",
    "\n",
    "print(\"Maximum length of statements:\", max_len_text)"
   ]
  },
  {
   "cell_type": "code",
   "execution_count": 25,
   "id": "638f3828",
   "metadata": {},
   "outputs": [],
   "source": [
    "max_len_text = max_len_text  \n",
    "tokenizer = Tokenizer()\n",
    "tokenizer.fit_on_texts(X_text)\n",
    "sequences = tokenizer.texts_to_sequences(X_text)\n",
    "X_text_pad = pad_sequences(sequences, maxlen=max_len_text)"
   ]
  },
  {
   "cell_type": "code",
   "execution_count": 26,
   "id": "1db6cf08",
   "metadata": {},
   "outputs": [],
   "source": [
    "embedding_dim = 100  \n",
    "vocab_size = len(tokenizer.word_index) + 1\n"
   ]
  },
  {
   "cell_type": "code",
   "execution_count": 27,
   "id": "b592392d",
   "metadata": {},
   "outputs": [],
   "source": [
    "from sklearn.model_selection import StratifiedKFold"
   ]
  },
  {
   "cell_type": "code",
   "execution_count": 28,
   "id": "f6702823",
   "metadata": {},
   "outputs": [],
   "source": [
    "def create_model():\n",
    "    model_text = Sequential()\n",
    "    model_text.add(Embedding(vocab_size, embedding_dim, input_length=max_len_text))\n",
    "    model_text.add(Bidirectional(LSTM(128))) \n",
    "\n",
    "    model_emotions = Sequential()\n",
    "    model_emotions.add(Dense(64, input_shape=(7,)))  # 7 features for emotions \n",
    "    model_scores = Sequential()\n",
    "    model_scores.add(Dense(64, input_shape=(4,)))  # 4 features for sentiment scores\n",
    "\n",
    "    merged = concatenate([model_text.output, model_emotions.output, model_scores.output])\n",
    "    merged = Dense(64, activation='relu')(merged)\n",
    "    output = Dense(1, activation='sigmoid')(merged)\n",
    "\n",
    "    model = tf.keras.models.Model(inputs=[model_text.input, model_emotions.input, model_scores.input], outputs=output)\n",
    "    model.compile(loss='binary_crossentropy', optimizer='adam', metrics=['accuracy'])\n",
    "    return model"
   ]
  },
  {
   "cell_type": "code",
   "execution_count": 29,
   "id": "b33c5ec3",
   "metadata": {},
   "outputs": [],
   "source": [
    "n_splits = 5  \n",
    "skf = StratifiedKFold(n_splits=n_splits, shuffle=True, random_state=42)\n"
   ]
  },
  {
   "cell_type": "code",
   "execution_count": 30,
   "id": "48750433",
   "metadata": {
    "scrolled": false
   },
   "outputs": [
    {
     "name": "stdout",
     "output_type": "stream",
     "text": [
      "Training Fold 1...\n",
      "Epoch 1/10\n"
     ]
    },
    {
     "name": "stderr",
     "output_type": "stream",
     "text": [
      "2023-08-03 23:02:15.939133: W tensorflow/core/platform/profile_utils/cpu_utils.cc:128] Failed to get CPU frequency: 0 Hz\n"
     ]
    },
    {
     "name": "stdout",
     "output_type": "stream",
     "text": [
      "27/27 [==============================] - 2s 25ms/step - loss: 0.6854 - accuracy: 0.5544\n",
      "Epoch 2/10\n",
      "27/27 [==============================] - 1s 27ms/step - loss: 0.5474 - accuracy: 0.7210\n",
      "Epoch 3/10\n",
      "27/27 [==============================] - 1s 27ms/step - loss: 0.2129 - accuracy: 0.9149\n",
      "Epoch 4/10\n",
      "27/27 [==============================] - 1s 28ms/step - loss: 0.0389 - accuracy: 0.9929\n",
      "Epoch 5/10\n",
      "27/27 [==============================] - 1s 28ms/step - loss: 0.0071 - accuracy: 0.9988\n",
      "Epoch 6/10\n",
      "27/27 [==============================] - 1s 26ms/step - loss: 0.0023 - accuracy: 1.0000\n",
      "Epoch 7/10\n",
      "27/27 [==============================] - 1s 28ms/step - loss: 7.7547e-04 - accuracy: 1.0000\n",
      "Epoch 8/10\n",
      "27/27 [==============================] - 1s 26ms/step - loss: 3.6759e-04 - accuracy: 1.0000\n",
      "Epoch 9/10\n",
      "27/27 [==============================] - 1s 30ms/step - loss: 2.6102e-04 - accuracy: 1.0000\n",
      "Epoch 10/10\n",
      "27/27 [==============================] - 1s 27ms/step - loss: 1.9769e-04 - accuracy: 1.0000\n",
      "Training Fold 2...\n",
      "Epoch 1/10\n",
      "27/27 [==============================] - 1s 24ms/step - loss: 0.6856 - accuracy: 0.5721\n",
      "Epoch 2/10\n",
      "27/27 [==============================] - 1s 23ms/step - loss: 0.5359 - accuracy: 0.7293\n",
      "Epoch 3/10\n",
      "27/27 [==============================] - 1s 23ms/step - loss: 0.2162 - accuracy: 0.9184\n",
      "Epoch 4/10\n",
      "27/27 [==============================] - 1s 24ms/step - loss: 0.0530 - accuracy: 0.9882\n",
      "Epoch 5/10\n",
      "27/27 [==============================] - 1s 29ms/step - loss: 0.0138 - accuracy: 0.9976\n",
      "Epoch 6/10\n",
      "27/27 [==============================] - 1s 28ms/step - loss: 0.0042 - accuracy: 1.0000\n",
      "Epoch 7/10\n",
      "27/27 [==============================] - 1s 25ms/step - loss: 0.0011 - accuracy: 1.0000\n",
      "Epoch 8/10\n",
      "27/27 [==============================] - 1s 26ms/step - loss: 4.5876e-04 - accuracy: 1.0000\n",
      "Epoch 9/10\n",
      "27/27 [==============================] - 1s 27ms/step - loss: 3.2862e-04 - accuracy: 1.0000\n",
      "Epoch 10/10\n",
      "27/27 [==============================] - 1s 26ms/step - loss: 2.4240e-04 - accuracy: 1.0000\n",
      "Training Fold 3...\n",
      "Epoch 1/10\n",
      "27/27 [==============================] - 2s 26ms/step - loss: 0.6755 - accuracy: 0.5780\n",
      "Epoch 2/10\n",
      "27/27 [==============================] - 1s 24ms/step - loss: 0.5681 - accuracy: 0.7187\n",
      "Epoch 3/10\n",
      "27/27 [==============================] - 1s 28ms/step - loss: 0.2764 - accuracy: 0.8972\n",
      "Epoch 4/10\n",
      "27/27 [==============================] - 1s 27ms/step - loss: 0.0853 - accuracy: 0.9693\n",
      "Epoch 5/10\n",
      "27/27 [==============================] - 1s 25ms/step - loss: 0.0195 - accuracy: 0.9965\n",
      "Epoch 6/10\n",
      "27/27 [==============================] - 1s 26ms/step - loss: 0.0042 - accuracy: 1.0000\n",
      "Epoch 7/10\n",
      "27/27 [==============================] - 1s 27ms/step - loss: 0.0017 - accuracy: 1.0000\n",
      "Epoch 8/10\n",
      "27/27 [==============================] - 1s 27ms/step - loss: 8.0297e-04 - accuracy: 1.0000\n",
      "Epoch 9/10\n",
      "27/27 [==============================] - 1s 24ms/step - loss: 5.1753e-04 - accuracy: 1.0000\n",
      "Epoch 10/10\n",
      "27/27 [==============================] - 1s 25ms/step - loss: 3.8517e-04 - accuracy: 1.0000\n",
      "Training Fold 4...\n",
      "Epoch 1/10\n",
      "27/27 [==============================] - 1s 23ms/step - loss: 0.6731 - accuracy: 0.5667\n",
      "Epoch 2/10\n",
      "27/27 [==============================] - 1s 24ms/step - loss: 0.5028 - accuracy: 0.7639\n",
      "Epoch 3/10\n",
      "27/27 [==============================] - 1s 24ms/step - loss: 0.1647 - accuracy: 0.9469\n",
      "Epoch 4/10\n",
      "27/27 [==============================] - 1s 25ms/step - loss: 0.0458 - accuracy: 0.9858\n",
      "Epoch 5/10\n",
      "27/27 [==============================] - 1s 26ms/step - loss: 0.0141 - accuracy: 0.9976\n",
      "Epoch 6/10\n",
      "27/27 [==============================] - 1s 26ms/step - loss: 0.0026 - accuracy: 1.0000\n",
      "Epoch 7/10\n",
      "27/27 [==============================] - 1s 26ms/step - loss: 5.1670e-04 - accuracy: 1.0000\n",
      "Epoch 8/10\n",
      "27/27 [==============================] - 1s 30ms/step - loss: 2.9865e-04 - accuracy: 1.0000\n",
      "Epoch 9/10\n",
      "27/27 [==============================] - 1s 29ms/step - loss: 2.0596e-04 - accuracy: 1.0000\n",
      "Epoch 10/10\n",
      "27/27 [==============================] - 1s 24ms/step - loss: 1.5466e-04 - accuracy: 1.0000\n",
      "Training Fold 5...\n",
      "Epoch 1/10\n",
      "27/27 [==============================] - 2s 26ms/step - loss: 0.6773 - accuracy: 0.5679\n",
      "Epoch 2/10\n",
      "27/27 [==============================] - 1s 24ms/step - loss: 0.5085 - accuracy: 0.7615\n",
      "Epoch 3/10\n",
      "27/27 [==============================] - 1s 28ms/step - loss: 0.1755 - accuracy: 0.9292\n",
      "Epoch 4/10\n",
      "27/27 [==============================] - 1s 26ms/step - loss: 0.0355 - accuracy: 0.9870\n",
      "Epoch 5/10\n",
      "27/27 [==============================] - 1s 25ms/step - loss: 0.0051 - accuracy: 1.0000\n",
      "Epoch 6/10\n",
      "27/27 [==============================] - 1s 25ms/step - loss: 6.2952e-04 - accuracy: 1.0000\n",
      "Epoch 7/10\n",
      "27/27 [==============================] - 1s 25ms/step - loss: 4.0704e-04 - accuracy: 1.0000\n",
      "Epoch 8/10\n",
      "27/27 [==============================] - 1s 25ms/step - loss: 2.9189e-04 - accuracy: 1.0000\n",
      "Epoch 9/10\n",
      "27/27 [==============================] - 1s 25ms/step - loss: 2.1838e-04 - accuracy: 1.0000\n",
      "Epoch 10/10\n",
      "27/27 [==============================] - 1s 25ms/step - loss: 1.7752e-04 - accuracy: 1.0000\n"
     ]
    }
   ],
   "source": [
    "for fold, (train_index, test_index) in enumerate(skf.split(X_text_pad, y)):\n",
    "    print(f\"Training Fold {fold+1}...\")\n",
    "\n",
    "    X_train_text, X_test_text = X_text_pad[train_index], X_text_pad[test_index]\n",
    "    X_train_emotions, X_test_emotions = X_emotions[train_index], X_emotions[test_index]\n",
    "    X_train_scores, X_test_scores = X_scores[train_index], X_scores[test_index]\n",
    "    y_train, y_test = y[train_index], y[test_index]\n",
    "\n",
    "    model = create_model()\n",
    "    model.fit([X_train_text, X_train_emotions, X_train_scores], y_train, epochs=10, batch_size=32, verbose=1)\n"
   ]
  },
  {
   "cell_type": "code",
   "execution_count": 31,
   "id": "8d7ef64f",
   "metadata": {},
   "outputs": [
    {
     "name": "stdout",
     "output_type": "stream",
     "text": [
      "7/7 [==============================] - 0s 8ms/step - loss: 1.2873 - accuracy: 0.7583\n",
      "7/7 [==============================] - 0s 8ms/step\n"
     ]
    }
   ],
   "source": [
    "    loss, accuracy = model.evaluate([X_test_text, X_test_emotions, X_test_scores], y_test, batch_size=32)\n",
    "    predictions = model.predict([X_test_text, X_test_emotions, X_test_scores])\n",
    "    predictions = (predictions > 0.5).astype(int)\n"
   ]
  },
  {
   "cell_type": "code",
   "execution_count": 32,
   "id": "7c5251a9",
   "metadata": {},
   "outputs": [],
   "source": [
    "accuracy_scores = []\n",
    "precision_scores = []\n",
    "recall_scores = []\n",
    "f1_scores = []"
   ]
  },
  {
   "cell_type": "code",
   "execution_count": 33,
   "id": "2d84a0d6",
   "metadata": {},
   "outputs": [
    {
     "name": "stdout",
     "output_type": "stream",
     "text": [
      "Fold 5 - Test Accuracy: 0.7583, Precision: 0.7712, Recall: 0.7913, F1-score: 0.7811\n"
     ]
    }
   ],
   "source": [
    "    tn, fp, fn, tp = tf.math.confusion_matrix(y_test, predictions).numpy().ravel()\n",
    "    accuracy_scores.append((tp + tn) / (tp + tn + fp + fn))\n",
    "    precision_scores.append(tp / (tp + fp))\n",
    "    recall_scores.append(tp / (tp + fn))\n",
    "    f1_scores.append(2 * tp / (2 * tp + fp + fn))\n",
    "\n",
    "    print(f'Fold {fold+1} - Test Accuracy: {accuracy_scores[-1]:.4f}, Precision: {precision_scores[-1]:.4f}, Recall: {recall_scores[-1]:.4f}, F1-score: {f1_scores[-1]:.4f}')\n"
   ]
  },
  {
   "cell_type": "code",
   "execution_count": 34,
   "id": "6f4b8e14",
   "metadata": {},
   "outputs": [
    {
     "name": "stdout",
     "output_type": "stream",
     "text": [
      "\n",
      "Average Test Accuracy: 0.7583\n",
      "Average Precision: 0.7712\n",
      "Average Recall: 0.7913\n",
      "Average F1-score: 0.7811\n"
     ]
    }
   ],
   "source": [
    "print(f'\\nAverage Test Accuracy: {np.mean(accuracy_scores):.4f}')\n",
    "print(f'Average Precision: {np.mean(precision_scores):.4f}')\n",
    "print(f'Average Recall: {np.mean(recall_scores):.4f}')\n",
    "print(f'Average F1-score: {np.mean(f1_scores):.4f}')"
   ]
  },
  {
   "cell_type": "code",
   "execution_count": 35,
   "id": "068c18da",
   "metadata": {},
   "outputs": [],
   "source": [
    "from sklearn.metrics import classification_report"
   ]
  },
  {
   "cell_type": "code",
   "execution_count": 36,
   "id": "57433434",
   "metadata": {},
   "outputs": [
    {
     "name": "stdout",
     "output_type": "stream",
     "text": [
      "Epoch 1/10\n",
      "27/27 [==============================] - 2s 24ms/step - loss: 0.6727 - accuracy: 0.5868\n",
      "Epoch 2/10\n",
      "27/27 [==============================] - 1s 28ms/step - loss: 0.5035 - accuracy: 0.7544\n",
      "Epoch 3/10\n",
      "27/27 [==============================] - 1s 28ms/step - loss: 0.1675 - accuracy: 0.9339\n",
      "Epoch 4/10\n",
      "27/27 [==============================] - 1s 27ms/step - loss: 0.0366 - accuracy: 0.9870\n",
      "Epoch 5/10\n",
      "27/27 [==============================] - 1s 28ms/step - loss: 0.0190 - accuracy: 0.9917\n",
      "Epoch 6/10\n",
      "27/27 [==============================] - 1s 26ms/step - loss: 0.0318 - accuracy: 0.9917\n",
      "Epoch 7/10\n",
      "27/27 [==============================] - 1s 28ms/step - loss: 0.0022 - accuracy: 1.0000\n",
      "Epoch 8/10\n",
      "27/27 [==============================] - 1s 28ms/step - loss: 6.9433e-04 - accuracy: 1.0000\n",
      "Epoch 9/10\n",
      "27/27 [==============================] - 1s 26ms/step - loss: 3.9393e-04 - accuracy: 1.0000\n",
      "Epoch 10/10\n",
      "27/27 [==============================] - 1s 27ms/step - loss: 2.8634e-04 - accuracy: 1.0000\n"
     ]
    },
    {
     "data": {
      "text/plain": [
       "<keras.callbacks.History at 0x2a8432260>"
      ]
     },
     "execution_count": 36,
     "metadata": {},
     "output_type": "execute_result"
    }
   ],
   "source": [
    "best_fold = np.argmax(accuracy_scores)\n",
    "X_train_text, X_test_text = X_text_pad[train_index], X_text_pad[test_index]\n",
    "X_train_emotions, X_test_emotions = X_emotions[train_index], X_emotions[test_index]\n",
    "X_train_scores, X_test_scores = X_scores[train_index], X_scores[test_index]\n",
    "y_train, y_test = y[train_index], y[test_index]\n",
    "\n",
    "best_model = create_model()\n",
    "best_model.fit([X_train_text, X_train_emotions, X_train_scores], y_train, epochs=10, batch_size=32, verbose=1)\n"
   ]
  },
  {
   "cell_type": "code",
   "execution_count": 37,
   "id": "c0a76a16",
   "metadata": {},
   "outputs": [
    {
     "name": "stdout",
     "output_type": "stream",
     "text": [
      "7/7 [==============================] - 0s 8ms/step - loss: 1.1328 - accuracy: 0.7441\n",
      "Test Loss: 1.1328, Test Accuracy: 0.7441\n",
      "7/7 [==============================] - 0s 10ms/step\n",
      "\n",
      "Classification Report:\n",
      "              precision    recall  f1-score   support\n",
      "\n",
      "           0       0.71      0.73      0.72        96\n",
      "           1       0.77      0.76      0.76       115\n",
      "\n",
      "    accuracy                           0.74       211\n",
      "   macro avg       0.74      0.74      0.74       211\n",
      "weighted avg       0.74      0.74      0.74       211\n",
      "\n"
     ]
    }
   ],
   "source": [
    "loss, accuracy = best_model.evaluate([X_test_text, X_test_emotions, X_test_scores], y_test, batch_size=32)\n",
    "print(f'Test Loss: {loss:.4f}, Test Accuracy: {accuracy:.4f}')\n",
    "\n",
    "# Make predictions\n",
    "predictions = best_model.predict([X_test_text, X_test_emotions, X_test_scores])\n",
    "predictions = (predictions > 0.5).astype(int)\n",
    "\n",
    "# Print the classification report\n",
    "print(\"\\nClassification Report:\")\n",
    "print(classification_report(y_test, predictions))"
   ]
  },
  {
   "cell_type": "code",
   "execution_count": 38,
   "id": "fc9c84d9",
   "metadata": {},
   "outputs": [],
   "source": [
    "best_model.save('fake_news_detection_LSTM.h5')"
   ]
  },
  {
   "cell_type": "code",
   "execution_count": 39,
   "id": "43ef79b4",
   "metadata": {},
   "outputs": [],
   "source": [
    "from sklearn.model_selection import train_test_split"
   ]
  },
  {
   "cell_type": "code",
   "execution_count": 40,
   "id": "9e8cc134",
   "metadata": {},
   "outputs": [],
   "source": [
    "# Split your data into training and testing sets\n",
    "X_train, X_test, y_train, y_test = train_test_split(df['statement'], df['BinaryNumTarget'], test_size=0.2, random_state=42)\n"
   ]
  },
  {
   "cell_type": "code",
   "execution_count": 41,
   "id": "cdd7db15",
   "metadata": {},
   "outputs": [],
   "source": [
    "from sklearn.feature_extraction.text import TfidfVectorizer"
   ]
  },
  {
   "cell_type": "code",
   "execution_count": 42,
   "id": "91520dfa",
   "metadata": {},
   "outputs": [],
   "source": [
    "# Convert text data into TF-IDF for NB and PAC\n",
    "vectorizer = TfidfVectorizer()\n",
    "X_train_tfidf = vectorizer.fit_transform(X_train)\n",
    "X_test_tfidf = vectorizer.transform(X_test)"
   ]
  },
  {
   "cell_type": "code",
   "execution_count": 43,
   "id": "d22692ee",
   "metadata": {},
   "outputs": [],
   "source": [
    "# Convert text data into sequences for LSTM\n",
    "tokenizer = Tokenizer(num_words=5000)\n",
    "tokenizer.fit_on_texts(X_train)\n",
    "sequences_train = tokenizer.texts_to_sequences(X_train)\n",
    "sequences_test = tokenizer.texts_to_sequences(X_test)\n",
    "word_index = tokenizer.word_index\n",
    "X_train_seq = pad_sequences(sequences_train, maxlen=1000)\n",
    "X_test_seq = pad_sequences(sequences_test, maxlen=1000)"
   ]
  },
  {
   "cell_type": "code",
   "execution_count": 44,
   "id": "1ffa7ad4",
   "metadata": {},
   "outputs": [],
   "source": [
    "from sklearn.naive_bayes import MultinomialNB\n"
   ]
  },
  {
   "cell_type": "code",
   "execution_count": 45,
   "id": "a0749f39",
   "metadata": {},
   "outputs": [
    {
     "data": {
      "text/html": [
       "<style>#sk-container-id-1 {color: black;background-color: white;}#sk-container-id-1 pre{padding: 0;}#sk-container-id-1 div.sk-toggleable {background-color: white;}#sk-container-id-1 label.sk-toggleable__label {cursor: pointer;display: block;width: 100%;margin-bottom: 0;padding: 0.3em;box-sizing: border-box;text-align: center;}#sk-container-id-1 label.sk-toggleable__label-arrow:before {content: \"▸\";float: left;margin-right: 0.25em;color: #696969;}#sk-container-id-1 label.sk-toggleable__label-arrow:hover:before {color: black;}#sk-container-id-1 div.sk-estimator:hover label.sk-toggleable__label-arrow:before {color: black;}#sk-container-id-1 div.sk-toggleable__content {max-height: 0;max-width: 0;overflow: hidden;text-align: left;background-color: #f0f8ff;}#sk-container-id-1 div.sk-toggleable__content pre {margin: 0.2em;color: black;border-radius: 0.25em;background-color: #f0f8ff;}#sk-container-id-1 input.sk-toggleable__control:checked~div.sk-toggleable__content {max-height: 200px;max-width: 100%;overflow: auto;}#sk-container-id-1 input.sk-toggleable__control:checked~label.sk-toggleable__label-arrow:before {content: \"▾\";}#sk-container-id-1 div.sk-estimator input.sk-toggleable__control:checked~label.sk-toggleable__label {background-color: #d4ebff;}#sk-container-id-1 div.sk-label input.sk-toggleable__control:checked~label.sk-toggleable__label {background-color: #d4ebff;}#sk-container-id-1 input.sk-hidden--visually {border: 0;clip: rect(1px 1px 1px 1px);clip: rect(1px, 1px, 1px, 1px);height: 1px;margin: -1px;overflow: hidden;padding: 0;position: absolute;width: 1px;}#sk-container-id-1 div.sk-estimator {font-family: monospace;background-color: #f0f8ff;border: 1px dotted black;border-radius: 0.25em;box-sizing: border-box;margin-bottom: 0.5em;}#sk-container-id-1 div.sk-estimator:hover {background-color: #d4ebff;}#sk-container-id-1 div.sk-parallel-item::after {content: \"\";width: 100%;border-bottom: 1px solid gray;flex-grow: 1;}#sk-container-id-1 div.sk-label:hover label.sk-toggleable__label {background-color: #d4ebff;}#sk-container-id-1 div.sk-serial::before {content: \"\";position: absolute;border-left: 1px solid gray;box-sizing: border-box;top: 0;bottom: 0;left: 50%;z-index: 0;}#sk-container-id-1 div.sk-serial {display: flex;flex-direction: column;align-items: center;background-color: white;padding-right: 0.2em;padding-left: 0.2em;position: relative;}#sk-container-id-1 div.sk-item {position: relative;z-index: 1;}#sk-container-id-1 div.sk-parallel {display: flex;align-items: stretch;justify-content: center;background-color: white;position: relative;}#sk-container-id-1 div.sk-item::before, #sk-container-id-1 div.sk-parallel-item::before {content: \"\";position: absolute;border-left: 1px solid gray;box-sizing: border-box;top: 0;bottom: 0;left: 50%;z-index: -1;}#sk-container-id-1 div.sk-parallel-item {display: flex;flex-direction: column;z-index: 1;position: relative;background-color: white;}#sk-container-id-1 div.sk-parallel-item:first-child::after {align-self: flex-end;width: 50%;}#sk-container-id-1 div.sk-parallel-item:last-child::after {align-self: flex-start;width: 50%;}#sk-container-id-1 div.sk-parallel-item:only-child::after {width: 0;}#sk-container-id-1 div.sk-dashed-wrapped {border: 1px dashed gray;margin: 0 0.4em 0.5em 0.4em;box-sizing: border-box;padding-bottom: 0.4em;background-color: white;}#sk-container-id-1 div.sk-label label {font-family: monospace;font-weight: bold;display: inline-block;line-height: 1.2em;}#sk-container-id-1 div.sk-label-container {text-align: center;}#sk-container-id-1 div.sk-container {/* jupyter's `normalize.less` sets `[hidden] { display: none; }` but bootstrap.min.css set `[hidden] { display: none !important; }` so we also need the `!important` here to be able to override the default hidden behavior on the sphinx rendered scikit-learn.org. See: https://github.com/scikit-learn/scikit-learn/issues/21755 */display: inline-block !important;position: relative;}#sk-container-id-1 div.sk-text-repr-fallback {display: none;}</style><div id=\"sk-container-id-1\" class=\"sk-top-container\"><div class=\"sk-text-repr-fallback\"><pre>MultinomialNB()</pre><b>In a Jupyter environment, please rerun this cell to show the HTML representation or trust the notebook. <br />On GitHub, the HTML representation is unable to render, please try loading this page with nbviewer.org.</b></div><div class=\"sk-container\" hidden><div class=\"sk-item\"><div class=\"sk-estimator sk-toggleable\"><input class=\"sk-toggleable__control sk-hidden--visually\" id=\"sk-estimator-id-1\" type=\"checkbox\" checked><label for=\"sk-estimator-id-1\" class=\"sk-toggleable__label sk-toggleable__label-arrow\">MultinomialNB</label><div class=\"sk-toggleable__content\"><pre>MultinomialNB()</pre></div></div></div></div></div>"
      ],
      "text/plain": [
       "MultinomialNB()"
      ]
     },
     "execution_count": 45,
     "metadata": {},
     "output_type": "execute_result"
    }
   ],
   "source": [
    "# Train a MultinomialNB classifier\n",
    "nb = MultinomialNB()\n",
    "nb.fit(X_train_tfidf, y_train)"
   ]
  },
  {
   "cell_type": "code",
   "execution_count": 46,
   "id": "c4a89e5b",
   "metadata": {},
   "outputs": [],
   "source": [
    "from sklearn.linear_model import PassiveAggressiveClassifier"
   ]
  },
  {
   "cell_type": "code",
   "execution_count": 47,
   "id": "bcadac5f",
   "metadata": {},
   "outputs": [
    {
     "data": {
      "text/html": [
       "<style>#sk-container-id-2 {color: black;background-color: white;}#sk-container-id-2 pre{padding: 0;}#sk-container-id-2 div.sk-toggleable {background-color: white;}#sk-container-id-2 label.sk-toggleable__label {cursor: pointer;display: block;width: 100%;margin-bottom: 0;padding: 0.3em;box-sizing: border-box;text-align: center;}#sk-container-id-2 label.sk-toggleable__label-arrow:before {content: \"▸\";float: left;margin-right: 0.25em;color: #696969;}#sk-container-id-2 label.sk-toggleable__label-arrow:hover:before {color: black;}#sk-container-id-2 div.sk-estimator:hover label.sk-toggleable__label-arrow:before {color: black;}#sk-container-id-2 div.sk-toggleable__content {max-height: 0;max-width: 0;overflow: hidden;text-align: left;background-color: #f0f8ff;}#sk-container-id-2 div.sk-toggleable__content pre {margin: 0.2em;color: black;border-radius: 0.25em;background-color: #f0f8ff;}#sk-container-id-2 input.sk-toggleable__control:checked~div.sk-toggleable__content {max-height: 200px;max-width: 100%;overflow: auto;}#sk-container-id-2 input.sk-toggleable__control:checked~label.sk-toggleable__label-arrow:before {content: \"▾\";}#sk-container-id-2 div.sk-estimator input.sk-toggleable__control:checked~label.sk-toggleable__label {background-color: #d4ebff;}#sk-container-id-2 div.sk-label input.sk-toggleable__control:checked~label.sk-toggleable__label {background-color: #d4ebff;}#sk-container-id-2 input.sk-hidden--visually {border: 0;clip: rect(1px 1px 1px 1px);clip: rect(1px, 1px, 1px, 1px);height: 1px;margin: -1px;overflow: hidden;padding: 0;position: absolute;width: 1px;}#sk-container-id-2 div.sk-estimator {font-family: monospace;background-color: #f0f8ff;border: 1px dotted black;border-radius: 0.25em;box-sizing: border-box;margin-bottom: 0.5em;}#sk-container-id-2 div.sk-estimator:hover {background-color: #d4ebff;}#sk-container-id-2 div.sk-parallel-item::after {content: \"\";width: 100%;border-bottom: 1px solid gray;flex-grow: 1;}#sk-container-id-2 div.sk-label:hover label.sk-toggleable__label {background-color: #d4ebff;}#sk-container-id-2 div.sk-serial::before {content: \"\";position: absolute;border-left: 1px solid gray;box-sizing: border-box;top: 0;bottom: 0;left: 50%;z-index: 0;}#sk-container-id-2 div.sk-serial {display: flex;flex-direction: column;align-items: center;background-color: white;padding-right: 0.2em;padding-left: 0.2em;position: relative;}#sk-container-id-2 div.sk-item {position: relative;z-index: 1;}#sk-container-id-2 div.sk-parallel {display: flex;align-items: stretch;justify-content: center;background-color: white;position: relative;}#sk-container-id-2 div.sk-item::before, #sk-container-id-2 div.sk-parallel-item::before {content: \"\";position: absolute;border-left: 1px solid gray;box-sizing: border-box;top: 0;bottom: 0;left: 50%;z-index: -1;}#sk-container-id-2 div.sk-parallel-item {display: flex;flex-direction: column;z-index: 1;position: relative;background-color: white;}#sk-container-id-2 div.sk-parallel-item:first-child::after {align-self: flex-end;width: 50%;}#sk-container-id-2 div.sk-parallel-item:last-child::after {align-self: flex-start;width: 50%;}#sk-container-id-2 div.sk-parallel-item:only-child::after {width: 0;}#sk-container-id-2 div.sk-dashed-wrapped {border: 1px dashed gray;margin: 0 0.4em 0.5em 0.4em;box-sizing: border-box;padding-bottom: 0.4em;background-color: white;}#sk-container-id-2 div.sk-label label {font-family: monospace;font-weight: bold;display: inline-block;line-height: 1.2em;}#sk-container-id-2 div.sk-label-container {text-align: center;}#sk-container-id-2 div.sk-container {/* jupyter's `normalize.less` sets `[hidden] { display: none; }` but bootstrap.min.css set `[hidden] { display: none !important; }` so we also need the `!important` here to be able to override the default hidden behavior on the sphinx rendered scikit-learn.org. See: https://github.com/scikit-learn/scikit-learn/issues/21755 */display: inline-block !important;position: relative;}#sk-container-id-2 div.sk-text-repr-fallback {display: none;}</style><div id=\"sk-container-id-2\" class=\"sk-top-container\"><div class=\"sk-text-repr-fallback\"><pre>PassiveAggressiveClassifier()</pre><b>In a Jupyter environment, please rerun this cell to show the HTML representation or trust the notebook. <br />On GitHub, the HTML representation is unable to render, please try loading this page with nbviewer.org.</b></div><div class=\"sk-container\" hidden><div class=\"sk-item\"><div class=\"sk-estimator sk-toggleable\"><input class=\"sk-toggleable__control sk-hidden--visually\" id=\"sk-estimator-id-2\" type=\"checkbox\" checked><label for=\"sk-estimator-id-2\" class=\"sk-toggleable__label sk-toggleable__label-arrow\">PassiveAggressiveClassifier</label><div class=\"sk-toggleable__content\"><pre>PassiveAggressiveClassifier()</pre></div></div></div></div></div>"
      ],
      "text/plain": [
       "PassiveAggressiveClassifier()"
      ]
     },
     "execution_count": 47,
     "metadata": {},
     "output_type": "execute_result"
    }
   ],
   "source": [
    "# Train a PassiveAggressiveClassifier\n",
    "pac = PassiveAggressiveClassifier()\n",
    "pac.fit(X_train_tfidf, y_train)"
   ]
  },
  {
   "cell_type": "code",
   "execution_count": 48,
   "id": "f038ef2f",
   "metadata": {},
   "outputs": [],
   "source": [
    "import numpy as np\n"
   ]
  },
  {
   "cell_type": "code",
   "execution_count": 49,
   "id": "d6467260",
   "metadata": {},
   "outputs": [],
   "source": [
    "# Generate predictions from both models\n",
    "nb_train_preds = np.expand_dims(nb.predict(X_train_tfidf), axis=-1)\n",
    "nb_test_preds = np.expand_dims(nb.predict(X_test_tfidf), axis=-1)\n",
    "pac_train_preds = np.expand_dims(pac.predict(X_train_tfidf), axis=-1)\n",
    "pac_test_preds = np.expand_dims(pac.predict(X_test_tfidf), axis=-1)"
   ]
  },
  {
   "cell_type": "code",
   "execution_count": 50,
   "id": "627411a2",
   "metadata": {},
   "outputs": [],
   "source": [
    "# Create LSTM model\n",
    "embedding_dim = 100\n",
    "sequence_input = Input(shape=(1000,), dtype='int32')\n",
    "nb_input = Input(shape=(1,))\n",
    "pac_input = Input(shape=(1,))\n",
    "\n",
    "embedded_sequences = Embedding(len(word_index) + 1, embedding_dim, input_length=1000)(sequence_input)\n",
    "x = LSTM(128)(embedded_sequences)\n",
    "x = concatenate([x, Dense(1)(nb_input), Dense(1)(pac_input)])  # Add predictions as features\n",
    "x = Dense(64, activation='relu')(x)\n",
    "preds = Dense(1, activation='sigmoid')(x)\n",
    "\n",
    "model = Model([sequence_input, nb_input, pac_input], preds)\n",
    "model.compile(loss='binary_crossentropy', optimizer='adam', metrics=['accuracy'])\n"
   ]
  },
  {
   "cell_type": "code",
   "execution_count": 51,
   "id": "0d468883",
   "metadata": {},
   "outputs": [
    {
     "name": "stdout",
     "output_type": "stream",
     "text": [
      "Epoch 1/10\n",
      "27/27 [==============================] - 14s 499ms/step - loss: 0.6084 - accuracy: 0.7695 - val_loss: 0.6011 - val_accuracy: 0.8066\n",
      "Epoch 2/10\n",
      "27/27 [==============================] - 13s 490ms/step - loss: 0.4672 - accuracy: 0.9385 - val_loss: 0.4912 - val_accuracy: 0.7642\n",
      "Epoch 3/10\n",
      "27/27 [==============================] - 13s 487ms/step - loss: 0.2298 - accuracy: 0.9267 - val_loss: 0.5134 - val_accuracy: 0.7877\n",
      "Epoch 4/10\n",
      "27/27 [==============================] - 13s 495ms/step - loss: 0.0676 - accuracy: 0.9787 - val_loss: 0.7042 - val_accuracy: 0.7736\n",
      "Epoch 5/10\n",
      "27/27 [==============================] - 13s 490ms/step - loss: 0.0167 - accuracy: 0.9976 - val_loss: 0.8762 - val_accuracy: 0.7783\n",
      "Epoch 6/10\n",
      "27/27 [==============================] - 13s 483ms/step - loss: 0.0017 - accuracy: 1.0000 - val_loss: 0.9929 - val_accuracy: 0.7736\n",
      "Epoch 7/10\n",
      "27/27 [==============================] - 13s 486ms/step - loss: 4.0319e-04 - accuracy: 1.0000 - val_loss: 1.0605 - val_accuracy: 0.7925\n",
      "Epoch 8/10\n",
      "27/27 [==============================] - 13s 482ms/step - loss: 2.8035e-04 - accuracy: 1.0000 - val_loss: 1.1065 - val_accuracy: 0.7925\n",
      "Epoch 9/10\n",
      "27/27 [==============================] - 13s 483ms/step - loss: 1.9215e-04 - accuracy: 1.0000 - val_loss: 1.1418 - val_accuracy: 0.7925\n",
      "Epoch 10/10\n",
      "27/27 [==============================] - 13s 491ms/step - loss: 1.6081e-04 - accuracy: 1.0000 - val_loss: 1.1467 - val_accuracy: 0.7925\n"
     ]
    },
    {
     "data": {
      "text/plain": [
       "<keras.callbacks.History at 0x29c3a4550>"
      ]
     },
     "execution_count": 51,
     "metadata": {},
     "output_type": "execute_result"
    }
   ],
   "source": [
    "# Train the model\n",
    "model.fit([X_train_seq, nb_train_preds, pac_train_preds], y_train, epochs=10, batch_size=32, validation_data=([X_test_seq, nb_test_preds, pac_test_preds], y_test))"
   ]
  },
  {
   "cell_type": "code",
   "execution_count": 52,
   "id": "808dce87",
   "metadata": {},
   "outputs": [],
   "source": [
    "from sklearn.metrics import classification_report"
   ]
  },
  {
   "cell_type": "code",
   "execution_count": 53,
   "id": "e4d2c0bd",
   "metadata": {},
   "outputs": [
    {
     "name": "stdout",
     "output_type": "stream",
     "text": [
      "7/7 [==============================] - 1s 141ms/step\n"
     ]
    }
   ],
   "source": [
    "# After training the model\n",
    "y_test_preds = model.predict([X_test_seq, nb_test_preds, pac_test_preds])\n",
    "y_test_preds = np.round(y_test_preds)  # round the predictions to 0 or 1"
   ]
  },
  {
   "cell_type": "code",
   "execution_count": 54,
   "id": "a86054ba",
   "metadata": {},
   "outputs": [
    {
     "name": "stdout",
     "output_type": "stream",
     "text": [
      "Classification Report:\n",
      "              precision    recall  f1-score   support\n",
      "\n",
      "           0       0.73      0.79      0.76        87\n",
      "           1       0.85      0.79      0.82       125\n",
      "\n",
      "    accuracy                           0.79       212\n",
      "   macro avg       0.79      0.79      0.79       212\n",
      "weighted avg       0.80      0.79      0.79       212\n",
      "\n"
     ]
    }
   ],
   "source": [
    "report = classification_report(y_test, y_test_preds, digits=2)\n",
    "print(\"Classification Report:\")\n",
    "print(report)"
   ]
  },
  {
   "cell_type": "code",
   "execution_count": 55,
   "id": "299a8634",
   "metadata": {},
   "outputs": [],
   "source": [
    "model.save('ensemble_model_LSTM.h5')"
   ]
  },
  {
   "cell_type": "code",
   "execution_count": 56,
   "id": "5d959fae",
   "metadata": {},
   "outputs": [],
   "source": [
    "import pickle"
   ]
  },
  {
   "cell_type": "code",
   "execution_count": 57,
   "id": "118401af",
   "metadata": {},
   "outputs": [],
   "source": [
    "# Save the Naive Bayes classifier\n",
    "with open('nb_classifier.pkl', 'wb') as f:\n",
    "    pickle.dump(nb, f)\n",
    "\n",
    "# Save the Passive Aggressive classifier\n",
    "with open('pac_classifier.pkl', 'wb') as f:\n",
    "    pickle.dump(pac, f)\n",
    "\n",
    "# Save the TF-IDF vectorizer\n",
    "with open('tfidf_vectorizer.pkl', 'wb') as f:\n",
    "    pickle.dump(vectorizer, f)"
   ]
  },
  {
   "cell_type": "code",
   "execution_count": 58,
   "id": "a82a4157",
   "metadata": {},
   "outputs": [
    {
     "name": "stdout",
     "output_type": "stream",
     "text": [
      "Shape of y_test: (212,)\n",
      "Shape of predictions: (211, 1)\n"
     ]
    }
   ],
   "source": [
    "print(\"Shape of y_test:\", y_test.shape)\n",
    "print(\"Shape of predictions:\", predictions.shape)\n"
   ]
  },
  {
   "cell_type": "code",
   "execution_count": 59,
   "id": "f9704c4d",
   "metadata": {},
   "outputs": [
    {
     "name": "stdout",
     "output_type": "stream",
     "text": [
      "7/7 [==============================] - 1s 141ms/step\n"
     ]
    },
    {
     "data": {
      "image/png": "[encoded data removed]",
      "text/plain": [
       "<Figure size 640x480 with 1 Axes>"
      ]
     },
     "metadata": {},
     "output_type": "display_data"
    },
    {
     "name": "stdout",
     "output_type": "stream",
     "text": [
      "Confusion Matrix:\n",
      "[[69 18]\n",
      " [26 99]]\n"
     ]
    }
   ],
   "source": [
    "from sklearn.metrics import roc_curve, auc, confusion_matrix\n",
    "import matplotlib.pyplot as plt\n",
    "\n",
    "# ...\n",
    "\n",
    "y_test_probs = model.predict([X_test_seq, nb_test_preds, pac_test_preds])\n",
    "\n",
    "fpr, tpr, _ = roc_curve(y_test, y_test_probs)\n",
    "roc_auc = auc(fpr, tpr)\n",
    "\n",
    "\n",
    "plt.figure()\n",
    "plt.plot(fpr, tpr, color='darkorange', lw=2, label='ROC curve (area = %0.2f)' % roc_auc)\n",
    "plt.plot([0, 1], [0, 1], color='navy', lw=2, linestyle='--')\n",
    "plt.xlim([0.0, 1.0])\n",
    "plt.ylim([0.0, 1.05])\n",
    "plt.xlabel('False Positive Rate')\n",
    "plt.ylabel('True Positive Rate')\n",
    "plt.title('Receiver Operating Characteristic (ROC)')\n",
    "plt.legend(loc=\"lower right\")\n",
    "plt.show()\n",
    "\n",
    "# Compute and print confusion matrix\n",
    "y_test_preds = np.round(y_test_probs)  # round the probabilities to 0 or 1\n",
    "conf_matrix = confusion_matrix(y_test, y_test_preds)\n",
    "print(\"Confusion Matrix:\")\n",
    "print(conf_matrix)\n"
   ]
  },
  {
   "cell_type": "code",
   "execution_count": 61,
   "id": "faddb772",
   "metadata": {},
   "outputs": [
    {
     "name": "stdout",
     "output_type": "stream",
     "text": [
      "7/7 [==============================] - 1s 133ms/step\n"
     ]
    },
    {
     "data": {
      "image/png": "[encoded data removed]",
      "text/plain": [
       "<Figure size 800x600 with 2 Axes>"
      ]
     },
     "metadata": {},
     "output_type": "display_data"
    }
   ],
   "source": [
    "from sklearn.metrics import confusion_matrix\n",
    "import seaborn as sns\n",
    "import matplotlib.pyplot as plt\n",
    "\n",
    "# Predicting the classes (0 or 1) for the test set\n",
    "y_test_preds = model.predict([X_test_seq, nb_test_preds, pac_test_preds])\n",
    "y_test_preds = np.round(y_test_preds).astype(int)  # Rounding the probabilities to get class labels\n",
    "\n",
    "# Calculating the confusion matrix\n",
    "conf_matrix = confusion_matrix(y_test, y_test_preds)\n",
    "\n",
    "# Plotting the confusion matrix\n",
    "plt.figure(figsize=(8, 6))\n",
    "sns.heatmap(conf_matrix, annot=True, cmap='Blues', fmt='g')\n",
    "plt.xlabel('Predicted')\n",
    "plt.ylabel('Actual')\n",
    "plt.title('Confusion Matrix for Ensemble Model')\n",
    "plt.show()\n"
   ]
  },
  {
   "cell_type": "code",
   "execution_count": 62,
   "id": "f0950e8a",
   "metadata": {},
   "outputs": [
    {
     "name": "stdout",
     "output_type": "stream",
     "text": [
      "7/7 [==============================] - 1s 139ms/step\n"
     ]
    },
    {
     "data": {
      "image/png": "[encoded data removed]",
      "text/plain": [
       "<Figure size 800x600 with 1 Axes>"
      ]
     },
     "metadata": {},
     "output_type": "display_data"
    },
    {
     "name": "stdout",
     "output_type": "stream",
     "text": [
      "AUC: 0.8552643678160918\n"
     ]
    }
   ],
   "source": [
    "from sklearn.metrics import roc_curve, auc\n",
    "\n",
    "# Predicting the probabilities for the test set\n",
    "y_test_probs = model.predict([X_test_seq, nb_test_preds, pac_test_preds]).squeeze()\n",
    "\n",
    "# Calculating the ROC curve for the ensemble model\n",
    "fpr, tpr, _ = roc_curve(y_test, y_test_probs)\n",
    "roc_auc = auc(fpr, tpr)\n",
    "\n",
    "# Plotting the ROC curve\n",
    "plt.figure(figsize=(8, 6))\n",
    "plt.plot(fpr, tpr, color='darkorange', lw=2, label='ROC curve (area = {:.2f})'.format(roc_auc))\n",
    "plt.plot([0, 1], [0, 1], color='navy', lw=2, linestyle='--')\n",
    "plt.xlim([0.0, 1.0])\n",
    "plt.ylim([0.0, 1.05])\n",
    "plt.xlabel('False Positive Rate')\n",
    "plt.ylabel('True Positive Rate')\n",
    "plt.title('Receiver Operating Characteristic (ROC) for Ensemble Model')\n",
    "plt.legend(loc='lower right')\n",
    "plt.show()\n",
    "\n",
    "# Print the AUC value\n",
    "print('AUC:', roc_auc)\n"
   ]
  },
  {
   "cell_type": "code",
   "execution_count": 63,
   "id": "5c108b2b",
   "metadata": {},
   "outputs": [],
   "source": [
    "from keras.layers import Input, Embedding, LSTM, Dense, concatenate\n",
    "from keras.models import Model\n"
   ]
  },
  {
   "cell_type": "code",
   "execution_count": 64,
   "id": "95f4c7c6",
   "metadata": {},
   "outputs": [],
   "source": [
    "# Define the LSTM model with additional inputs for Scikit-learn predictions\n",
    "embedding_dim = 100\n",
    "sequence_input = Input(shape=(1000,), dtype='int32')\n",
    "nb_input = Input(shape=(1,))\n",
    "pac_input = Input(shape=(1,))"
   ]
  },
  {
   "cell_type": "code",
   "execution_count": 65,
   "id": "f6b9cbc9",
   "metadata": {},
   "outputs": [],
   "source": [
    "embedded_sequences = Embedding(len(word_index) + 1, embedding_dim, input_length=1000)(sequence_input)\n",
    "x = LSTM(128)(embedded_sequences)\n",
    "x = concatenate([x, Dense(1)(nb_input), Dense(1)(pac_input)])  # Add predictions as features\n",
    "x = Dense(64, activation='relu')(x)\n",
    "preds = Dense(1, activation='sigmoid')(x)\n"
   ]
  },
  {
   "cell_type": "code",
   "execution_count": 66,
   "id": "41083435",
   "metadata": {},
   "outputs": [],
   "source": [
    "model = Model([sequence_input, nb_input, pac_input], preds)\n",
    "model.compile(loss='binary_crossentropy', optimizer='adam', metrics=['accuracy'])\n"
   ]
  },
  {
   "cell_type": "code",
   "execution_count": 67,
   "id": "42135441",
   "metadata": {},
   "outputs": [
    {
     "name": "stdout",
     "output_type": "stream",
     "text": [
      "Epoch 1/10\n",
      "27/27 [==============================] - 14s 489ms/step - loss: 0.5872 - accuracy: 0.7955 - val_loss: 0.6100 - val_accuracy: 0.7547\n",
      "Epoch 2/10\n",
      "27/27 [==============================] - 13s 484ms/step - loss: 0.4674 - accuracy: 0.9858 - val_loss: 0.5502 - val_accuracy: 0.7547\n",
      "Epoch 3/10\n",
      "27/27 [==============================] - 13s 493ms/step - loss: 0.2433 - accuracy: 0.9456 - val_loss: 0.5426 - val_accuracy: 0.7736\n",
      "Epoch 4/10\n",
      "27/27 [==============================] - 13s 484ms/step - loss: 0.0652 - accuracy: 0.9775 - val_loss: 0.5912 - val_accuracy: 0.7689\n",
      "Epoch 5/10\n",
      "27/27 [==============================] - 13s 486ms/step - loss: 0.0221 - accuracy: 0.9976 - val_loss: 0.7996 - val_accuracy: 0.7877\n",
      "Epoch 6/10\n",
      "27/27 [==============================] - 13s 485ms/step - loss: 0.1529 - accuracy: 0.9669 - val_loss: 0.5492 - val_accuracy: 0.7170\n",
      "Epoch 7/10\n",
      "27/27 [==============================] - 13s 487ms/step - loss: 0.0732 - accuracy: 0.9941 - val_loss: 0.6500 - val_accuracy: 0.7358\n",
      "Epoch 8/10\n",
      "27/27 [==============================] - 13s 484ms/step - loss: 0.0153 - accuracy: 1.0000 - val_loss: 0.7400 - val_accuracy: 0.7264\n",
      "Epoch 9/10\n",
      "27/27 [==============================] - 13s 484ms/step - loss: 0.0057 - accuracy: 1.0000 - val_loss: 0.8012 - val_accuracy: 0.7358\n",
      "Epoch 10/10\n",
      "27/27 [==============================] - 13s 484ms/step - loss: 0.0031 - accuracy: 1.0000 - val_loss: 0.8485 - val_accuracy: 0.7406\n"
     ]
    },
    {
     "data": {
      "text/plain": [
       "<keras.callbacks.History at 0x2c13925f0>"
      ]
     },
     "execution_count": 67,
     "metadata": {},
     "output_type": "execute_result"
    }
   ],
   "source": [
    "# Train the model\n",
    "model.fit([X_train_seq, nb_train_preds, pac_train_preds], y_train, epochs=10, batch_size=32, validation_data=([X_test_seq, nb_test_preds, pac_test_preds], y_test))\n"
   ]
  },
  {
   "cell_type": "code",
   "execution_count": 68,
   "id": "93d99426",
   "metadata": {},
   "outputs": [],
   "source": [
    "# Save the ensemble model to an h5 file\n",
    "model.save('ensemble_model_LSTM.h5')"
   ]
  },
  {
   "cell_type": "code",
   "execution_count": null,
   "id": "817130eb",
   "metadata": {},
   "outputs": [],
   "source": []
  }
 ],
 "metadata": {
  "kernelspec": {
   "display_name": "Python 3 (ipykernel)",
   "language": "python",
   "name": "python3"
  },
  "language_info": {
   "codemirror_mode": {
    "name": "ipython",
    "version": 3
   },
   "file_extension": ".py",
   "mimetype": "text/x-python",
   "name": "python",
   "nbconvert_exporter": "python",
   "pygments_lexer": "ipython3",
   "version": "3.10.9"
  }
 },
 "nbformat": 4,
 "nbformat_minor": 5
}
