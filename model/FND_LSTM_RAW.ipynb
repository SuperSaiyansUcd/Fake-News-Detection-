{
 "cells": [
  {
   "cell_type": "code",
   "execution_count": 1,
   "id": "f668daab",
   "metadata": {},
   "outputs": [],
   "source": [
    "\n",
    "import pandas as pd\n",
    "import numpy as np\n",
    "from sklearn.model_selection import train_test_split\n",
    "from sklearn.preprocessing import LabelEncoder\n",
    "from tensorflow.keras.preprocessing.text import Tokenizer\n",
    "from tensorflow.keras.preprocessing.sequence import pad_sequences\n",
    "from tensorflow.keras.models import Sequential\n",
    "from tensorflow.keras.layers import Embedding, LSTM, Dense"
   ]
  },
  {
   "cell_type": "code",
   "execution_count": 2,
   "id": "7b92035f",
   "metadata": {},
   "outputs": [
    {
     "data": {
      "text/html": [
       "<div>\n",
       "<style scoped>\n",
       "    .dataframe tbody tr th:only-of-type {\n",
       "        vertical-align: middle;\n",
       "    }\n",
       "\n",
       "    .dataframe tbody tr th {\n",
       "        vertical-align: top;\n",
       "    }\n",
       "\n",
       "    .dataframe thead th {\n",
       "        text-align: right;\n",
       "    }\n",
       "</style>\n",
       "<table border=\"1\" class=\"dataframe\">\n",
       "  <thead>\n",
       "    <tr style=\"text-align: right;\">\n",
       "      <th></th>\n",
       "      <th>Unnamed: 0</th>\n",
       "      <th>majority_target</th>\n",
       "      <th>statement</th>\n",
       "      <th>BinaryNumTarget</th>\n",
       "      <th>tweet</th>\n",
       "      <th>followers_count</th>\n",
       "      <th>friends_count</th>\n",
       "      <th>favourites_count</th>\n",
       "      <th>statuses_count</th>\n",
       "      <th>listed_count</th>\n",
       "      <th>...</th>\n",
       "      <th>determiners</th>\n",
       "      <th>conjunctions</th>\n",
       "      <th>dots</th>\n",
       "      <th>exclamation</th>\n",
       "      <th>questions</th>\n",
       "      <th>ampersand</th>\n",
       "      <th>capitals</th>\n",
       "      <th>digits</th>\n",
       "      <th>long_word_freq</th>\n",
       "      <th>short_word_freq</th>\n",
       "    </tr>\n",
       "  </thead>\n",
       "  <tbody>\n",
       "    <tr>\n",
       "      <th>0</th>\n",
       "      <td>0</td>\n",
       "      <td>True</td>\n",
       "      <td>End of eviction moratorium means millions of A...</td>\n",
       "      <td>1.0</td>\n",
       "      <td>@POTUS Biden Blunders - 6 Month Update\\n\\nInfl...</td>\n",
       "      <td>4262.0</td>\n",
       "      <td>3619.0</td>\n",
       "      <td>34945.0</td>\n",
       "      <td>16423.0</td>\n",
       "      <td>44.0</td>\n",
       "      <td>...</td>\n",
       "      <td>0</td>\n",
       "      <td>0</td>\n",
       "      <td>5</td>\n",
       "      <td>0</td>\n",
       "      <td>1</td>\n",
       "      <td>0</td>\n",
       "      <td>33</td>\n",
       "      <td>3</td>\n",
       "      <td>5</td>\n",
       "      <td>19</td>\n",
       "    </tr>\n",
       "    <tr>\n",
       "      <th>1</th>\n",
       "      <td>1</td>\n",
       "      <td>True</td>\n",
       "      <td>End of eviction moratorium means millions of A...</td>\n",
       "      <td>1.0</td>\n",
       "      <td>@S0SickRick @Stairmaster_ @6d6f636869 Not as m...</td>\n",
       "      <td>1393.0</td>\n",
       "      <td>1621.0</td>\n",
       "      <td>31436.0</td>\n",
       "      <td>37184.0</td>\n",
       "      <td>64.0</td>\n",
       "      <td>...</td>\n",
       "      <td>0</td>\n",
       "      <td>2</td>\n",
       "      <td>1</td>\n",
       "      <td>0</td>\n",
       "      <td>0</td>\n",
       "      <td>0</td>\n",
       "      <td>14</td>\n",
       "      <td>0</td>\n",
       "      <td>2</td>\n",
       "      <td>34</td>\n",
       "    </tr>\n",
       "    <tr>\n",
       "      <th>2</th>\n",
       "      <td>2</td>\n",
       "      <td>True</td>\n",
       "      <td>End of eviction moratorium means millions of A...</td>\n",
       "      <td>1.0</td>\n",
       "      <td>THE SUPREME COURT is siding with super rich pr...</td>\n",
       "      <td>9.0</td>\n",
       "      <td>84.0</td>\n",
       "      <td>219.0</td>\n",
       "      <td>1184.0</td>\n",
       "      <td>0.0</td>\n",
       "      <td>...</td>\n",
       "      <td>0</td>\n",
       "      <td>1</td>\n",
       "      <td>0</td>\n",
       "      <td>0</td>\n",
       "      <td>0</td>\n",
       "      <td>0</td>\n",
       "      <td>3</td>\n",
       "      <td>0</td>\n",
       "      <td>4</td>\n",
       "      <td>10</td>\n",
       "    </tr>\n",
       "    <tr>\n",
       "      <th>3</th>\n",
       "      <td>3</td>\n",
       "      <td>True</td>\n",
       "      <td>End of eviction moratorium means millions of A...</td>\n",
       "      <td>1.0</td>\n",
       "      <td>@POTUS Biden Blunders\\n\\nBroken campaign promi...</td>\n",
       "      <td>4262.0</td>\n",
       "      <td>3619.0</td>\n",
       "      <td>34945.0</td>\n",
       "      <td>16423.0</td>\n",
       "      <td>44.0</td>\n",
       "      <td>...</td>\n",
       "      <td>0</td>\n",
       "      <td>1</td>\n",
       "      <td>3</td>\n",
       "      <td>0</td>\n",
       "      <td>0</td>\n",
       "      <td>1</td>\n",
       "      <td>6</td>\n",
       "      <td>8</td>\n",
       "      <td>1</td>\n",
       "      <td>30</td>\n",
       "    </tr>\n",
       "    <tr>\n",
       "      <th>4</th>\n",
       "      <td>4</td>\n",
       "      <td>True</td>\n",
       "      <td>End of eviction moratorium means millions of A...</td>\n",
       "      <td>1.0</td>\n",
       "      <td>@OhComfy I agree. The confluence of events rig...</td>\n",
       "      <td>70.0</td>\n",
       "      <td>166.0</td>\n",
       "      <td>15282.0</td>\n",
       "      <td>2194.0</td>\n",
       "      <td>0.0</td>\n",
       "      <td>...</td>\n",
       "      <td>0</td>\n",
       "      <td>1</td>\n",
       "      <td>3</td>\n",
       "      <td>0</td>\n",
       "      <td>1</td>\n",
       "      <td>0</td>\n",
       "      <td>11</td>\n",
       "      <td>3</td>\n",
       "      <td>2</td>\n",
       "      <td>19</td>\n",
       "    </tr>\n",
       "  </tbody>\n",
       "</table>\n",
       "<p>5 rows × 64 columns</p>\n",
       "</div>"
      ],
      "text/plain": [
       "   Unnamed: 0  majority_target  \\\n",
       "0           0             True   \n",
       "1           1             True   \n",
       "2           2             True   \n",
       "3           3             True   \n",
       "4           4             True   \n",
       "\n",
       "                                           statement  BinaryNumTarget  \\\n",
       "0  End of eviction moratorium means millions of A...              1.0   \n",
       "1  End of eviction moratorium means millions of A...              1.0   \n",
       "2  End of eviction moratorium means millions of A...              1.0   \n",
       "3  End of eviction moratorium means millions of A...              1.0   \n",
       "4  End of eviction moratorium means millions of A...              1.0   \n",
       "\n",
       "                                               tweet  followers_count  \\\n",
       "0  @POTUS Biden Blunders - 6 Month Update\\n\\nInfl...           4262.0   \n",
       "1  @S0SickRick @Stairmaster_ @6d6f636869 Not as m...           1393.0   \n",
       "2  THE SUPREME COURT is siding with super rich pr...              9.0   \n",
       "3  @POTUS Biden Blunders\\n\\nBroken campaign promi...           4262.0   \n",
       "4  @OhComfy I agree. The confluence of events rig...             70.0   \n",
       "\n",
       "   friends_count  favourites_count  statuses_count  listed_count  ...  \\\n",
       "0         3619.0           34945.0         16423.0          44.0  ...   \n",
       "1         1621.0           31436.0         37184.0          64.0  ...   \n",
       "2           84.0             219.0          1184.0           0.0  ...   \n",
       "3         3619.0           34945.0         16423.0          44.0  ...   \n",
       "4          166.0           15282.0          2194.0           0.0  ...   \n",
       "\n",
       "   determiners conjunctions  dots  exclamation  questions  ampersand  \\\n",
       "0            0            0     5            0          1          0   \n",
       "1            0            2     1            0          0          0   \n",
       "2            0            1     0            0          0          0   \n",
       "3            0            1     3            0          0          1   \n",
       "4            0            1     3            0          1          0   \n",
       "\n",
       "   capitals  digits  long_word_freq  short_word_freq  \n",
       "0        33       3               5               19  \n",
       "1        14       0               2               34  \n",
       "2         3       0               4               10  \n",
       "3         6       8               1               30  \n",
       "4        11       3               2               19  \n",
       "\n",
       "[5 rows x 64 columns]"
      ]
     },
     "execution_count": 2,
     "metadata": {},
     "output_type": "execute_result"
    }
   ],
   "source": [
    "# Note: Change the RAW URL before running the model\n",
    "df = pd.read_csv('Features_For_Traditional_ML_Techniques.csv')\n",
    "df.head(5)"
   ]
  },
  {
   "cell_type": "code",
   "execution_count": 3,
   "id": "4022d901",
   "metadata": {},
   "outputs": [],
   "source": [
    "import matplotlib.pyplot as plt\n",
    "import seaborn as sns\n",
    "\n",
    "plt.style.use('ggplot')\n",
    "\n",
    "import nltk"
   ]
  },
  {
   "cell_type": "code",
   "execution_count": 4,
   "id": "1444b4ce",
   "metadata": {},
   "outputs": [
    {
     "name": "stdout",
     "output_type": "stream",
     "text": [
      "0         End of eviction moratorium means millions of A...\n",
      "1         End of eviction moratorium means millions of A...\n",
      "2         End of eviction moratorium means millions of A...\n",
      "3         End of eviction moratorium means millions of A...\n",
      "4         End of eviction moratorium means millions of A...\n",
      "                                ...                        \n",
      "134193    Joe Bidens great-grandfather Joseph J. Biden w...\n",
      "134194    Joe Bidens great-grandfather Joseph J. Biden w...\n",
      "134195    Joe Bidens great-grandfather Joseph J. Biden w...\n",
      "134196    Joe Bidens great-grandfather Joseph J. Biden w...\n",
      "134197    Joe Bidens great-grandfather Joseph J. Biden w...\n",
      "Name: statement, Length: 134198, dtype: object\n"
     ]
    }
   ],
   "source": [
    "example = df['statement']\n",
    "print(example)"
   ]
  },
  {
   "cell_type": "code",
   "execution_count": 5,
   "id": "10c5d5d8",
   "metadata": {},
   "outputs": [
    {
     "name": "stderr",
     "output_type": "stream",
     "text": [
      "[nltk_data] Downloading package stopwords to\n",
      "[nltk_data]     C:\\Users\\maddy\\AppData\\Roaming\\nltk_data...\n",
      "[nltk_data]   Package stopwords is already up-to-date!\n",
      "[nltk_data] Downloading package punkt to\n",
      "[nltk_data]     C:\\Users\\maddy\\AppData\\Roaming\\nltk_data...\n",
      "[nltk_data]   Package punkt is already up-to-date!\n",
      "[nltk_data] Downloading package wordnet to\n",
      "[nltk_data]     C:\\Users\\maddy\\AppData\\Roaming\\nltk_data...\n",
      "[nltk_data]   Package wordnet is already up-to-date!\n"
     ]
    },
    {
     "data": {
      "text/plain": [
       "True"
      ]
     },
     "execution_count": 5,
     "metadata": {},
     "output_type": "execute_result"
    }
   ],
   "source": [
    "import nltk\n",
    "from nltk.corpus import stopwords\n",
    "from nltk.tokenize import word_tokenize\n",
    "from nltk.stem import WordNetLemmatizer\n",
    "import re\n",
    "\n",
    "nltk.download('stopwords')\n",
    "nltk.download('punkt')\n",
    "nltk.download('wordnet')"
   ]
  },
  {
   "cell_type": "code",
   "execution_count": 6,
   "id": "11e056b4",
   "metadata": {},
   "outputs": [],
   "source": [
    "def preprocess_text(text):\n",
    "    # Convert to lowercase\n",
    "    text = text.lower()\n",
    "    \n",
    "    # Remove URLs\n",
    "    text = re.sub(r'http\\S+|www\\S+|https\\S+', '', text, flags=re.MULTILINE)\n",
    "    \n",
    "    # Remove non-alphanumeric characters\n",
    "    text = re.sub(r'\\W+', ' ', text)\n",
    "    \n",
    "    # Tokenization\n",
    "    tokens = word_tokenize(text)\n",
    "    \n",
    "    # Remove stopwords\n",
    "    stop_words = set(stopwords.words('english'))\n",
    "    filtered_tokens = [token for token in tokens if token not in stop_words]\n",
    "    \n",
    "    # Lemmatization\n",
    "    lemmatizer = WordNetLemmatizer()\n",
    "    lemmatized_tokens = [lemmatizer.lemmatize(token) for token in filtered_tokens]\n",
    "    \n",
    "    # Join tokens back into a single string\n",
    "    preprocessed_text = ' '.join(lemmatized_tokens)\n",
    "    \n",
    "    return preprocessed_text"
   ]
  },
  {
   "cell_type": "code",
   "execution_count": 7,
   "id": "e99b5809",
   "metadata": {},
   "outputs": [],
   "source": [
    "df['preprocessed_text'] = df['tweet'].apply(preprocess_text)"
   ]
  },
  {
   "cell_type": "code",
   "execution_count": 8,
   "id": "02ff060e",
   "metadata": {
    "scrolled": true
   },
   "outputs": [
    {
     "data": {
      "text/plain": [
       "0         potus biden blunder 6 month update inflation d...\n",
       "1         s0sickrick stairmaster_ 6d6f636869 many people...\n",
       "2         supreme court siding super rich property owner...\n",
       "3         potus biden blunder broken campaign promise in...\n",
       "4         ohcomfy agree confluence event right unprecede...\n",
       "                                ...                        \n",
       "134193    joe biden family owned african slave joe biden...\n",
       "134194    joe bidens great great grandfather slave owner...\n",
       "134195    chevychasetogo joe bidens great grandfather jo...\n",
       "134196    joebiden fact bidens vp kamala harris great gr...\n",
       "134197    sunny yes representation matter know bidens gr...\n",
       "Name: preprocessed_text, Length: 134198, dtype: object"
      ]
     },
     "execution_count": 8,
     "metadata": {},
     "output_type": "execute_result"
    }
   ],
   "source": [
    "df['preprocessed_text']"
   ]
  },
  {
   "cell_type": "code",
   "execution_count": 9,
   "id": "93964e99",
   "metadata": {},
   "outputs": [],
   "source": [
    "from sklearn.model_selection import train_test_split, GridSearchCV\n",
    "from sklearn.metrics import accuracy_score, precision_score, recall_score, f1_score\n",
    "from keras.models import Sequential\n",
    "from keras.layers import Embedding, LSTM, Bidirectional, Dense\n",
    "from keras.wrappers.scikit_learn import KerasClassifier\n",
    "from keras.preprocessing.text import Tokenizer\n",
    "from keras_preprocessing.sequence import pad_sequences\n",
    "from keras.regularizers import l2"
   ]
  },
  {
   "cell_type": "code",
   "execution_count": 10,
   "id": "b2c0ad2e",
   "metadata": {},
   "outputs": [],
   "source": [
    "X = df[['tweet']]\n",
    "y = df['BinaryNumTarget']"
   ]
  },
  {
   "cell_type": "code",
   "execution_count": 11,
   "id": "8992d57e",
   "metadata": {},
   "outputs": [],
   "source": [
    "X_train, X_test, y_train, y_test = train_test_split(X, y, test_size=0.2, random_state=42)"
   ]
  },
  {
   "cell_type": "code",
   "execution_count": 13,
   "id": "4fb4108c",
   "metadata": {},
   "outputs": [],
   "source": [
    "tokenizer = Tokenizer()\n",
    "tokenizer.fit_on_texts(X_train['tweet'])"
   ]
  },
  {
   "cell_type": "code",
   "execution_count": 15,
   "id": "1025c51a",
   "metadata": {},
   "outputs": [],
   "source": [
    "X_train_seq = tokenizer.texts_to_sequences(X_train['tweet'])\n",
    "X_test_seq = tokenizer.texts_to_sequences(X_test['tweet'])"
   ]
  },
  {
   "cell_type": "code",
   "execution_count": 16,
   "id": "1c0c520a",
   "metadata": {},
   "outputs": [],
   "source": [
    "max_seq_length = max(len(seq) for seq in X_train_seq)\n",
    "X_train_pad = pad_sequences(X_train_seq, maxlen=max_seq_length)\n",
    "X_test_pad = pad_sequences(X_test_seq, maxlen=max_seq_length)"
   ]
  },
  {
   "cell_type": "code",
   "execution_count": 17,
   "id": "6aa93c18",
   "metadata": {},
   "outputs": [
    {
     "data": {
      "text/plain": [
       "118"
      ]
     },
     "execution_count": 17,
     "metadata": {},
     "output_type": "execute_result"
    }
   ],
   "source": [
    "max_seq_length"
   ]
  },
  {
   "cell_type": "code",
   "execution_count": 18,
   "id": "cd8712cc",
   "metadata": {},
   "outputs": [],
   "source": [
    "model = Sequential()\n",
    "model.add(Embedding(input_dim=len(tokenizer.word_index) + 1, output_dim=128, input_length=max_seq_length))\n",
    "model.add(Bidirectional(LSTM(units=64, kernel_regularizer=l2(0.1), recurrent_regularizer=l2(0.1))))\n",
    "model.add(Dense(1, activation='sigmoid'))"
   ]
  },
  {
   "cell_type": "code",
   "execution_count": 19,
   "id": "e301a3f2",
   "metadata": {},
   "outputs": [
    {
     "name": "stdout",
     "output_type": "stream",
     "text": [
      "Model: \"sequential\"\n",
      "_________________________________________________________________\n",
      " Layer (type)                Output Shape              Param #   \n",
      "=================================================================\n",
      " embedding (Embedding)       (None, 118, 128)          18637440  \n",
      "                                                                 \n",
      " bidirectional (Bidirectiona  (None, 128)              98816     \n",
      " l)                                                              \n",
      "                                                                 \n",
      " dense (Dense)               (None, 1)                 129       \n",
      "                                                                 \n",
      "=================================================================\n",
      "Total params: 18,736,385\n",
      "Trainable params: 18,736,385\n",
      "Non-trainable params: 0\n",
      "_________________________________________________________________\n"
     ]
    }
   ],
   "source": [
    "model.compile(loss='binary_crossentropy', optimizer='adam', metrics=['accuracy'])\n",
    "model.summary()"
   ]
  },
  {
   "cell_type": "code",
   "execution_count": 20,
   "id": "5155176d",
   "metadata": {},
   "outputs": [
    {
     "name": "stdout",
     "output_type": "stream",
     "text": [
      "Epoch 1/10\n",
      "3355/3355 [==============================] - 732s 218ms/step - loss: 0.7085 - accuracy: 0.9358 - val_loss: 0.0981 - val_accuracy: 0.9760\n",
      "Epoch 2/10\n",
      "3355/3355 [==============================] - 746s 222ms/step - loss: 0.0695 - accuracy: 0.9844 - val_loss: 0.0735 - val_accuracy: 0.9798\n",
      "Epoch 3/10\n",
      "3355/3355 [==============================] - 625s 186ms/step - loss: 0.0441 - accuracy: 0.9906 - val_loss: 0.0773 - val_accuracy: 0.9801\n",
      "Epoch 4/10\n",
      "3355/3355 [==============================] - 624s 186ms/step - loss: 0.0322 - accuracy: 0.9932 - val_loss: 0.0908 - val_accuracy: 0.9738\n",
      "Epoch 5/10\n",
      "3355/3355 [==============================] - 659s 196ms/step - loss: 0.0249 - accuracy: 0.9948 - val_loss: 0.0834 - val_accuracy: 0.9772\n",
      "Epoch 6/10\n",
      "3355/3355 [==============================] - 661s 197ms/step - loss: 0.0194 - accuracy: 0.9963 - val_loss: 0.0941 - val_accuracy: 0.9750\n",
      "Epoch 7/10\n",
      "3355/3355 [==============================] - 688s 205ms/step - loss: 0.0144 - accuracy: 0.9976 - val_loss: 0.0929 - val_accuracy: 0.9753\n",
      "Epoch 8/10\n",
      "3355/3355 [==============================] - 657s 196ms/step - loss: 0.0122 - accuracy: 0.9979 - val_loss: 0.0959 - val_accuracy: 0.9765\n",
      "Epoch 9/10\n",
      "3355/3355 [==============================] - 657s 196ms/step - loss: 0.0107 - accuracy: 0.9983 - val_loss: 0.0861 - val_accuracy: 0.9748\n",
      "Epoch 10/10\n",
      "3355/3355 [==============================] - 661s 197ms/step - loss: 0.0103 - accuracy: 0.9983 - val_loss: 0.1136 - val_accuracy: 0.9732\n"
     ]
    },
    {
     "data": {
      "text/plain": [
       "<keras.callbacks.History at 0x1e491c16890>"
      ]
     },
     "execution_count": 20,
     "metadata": {},
     "output_type": "execute_result"
    }
   ],
   "source": [
    "model.fit(X_train_pad, y_train, validation_data=(X_test_pad, y_test), epochs=10, batch_size=32)\n"
   ]
  },
  {
   "cell_type": "code",
   "execution_count": 21,
   "id": "47db0396",
   "metadata": {},
   "outputs": [
    {
     "name": "stdout",
     "output_type": "stream",
     "text": [
      "839/839 [==============================] - 11s 12ms/step\n"
     ]
    },
    {
     "data": {
      "text/plain": [
       "array([[2.4226794e-04],\n",
       "       [9.9999106e-01],\n",
       "       [2.3662426e-07],\n",
       "       ...,\n",
       "       [1.0000000e+00],\n",
       "       [1.4142856e-07],\n",
       "       [9.9999994e-01]], dtype=float32)"
      ]
     },
     "execution_count": 21,
     "metadata": {},
     "output_type": "execute_result"
    }
   ],
   "source": [
    "y_pred = model.predict(X_test_pad)\n",
    "\n",
    "y_pred"
   ]
  },
  {
   "cell_type": "code",
   "execution_count": 22,
   "id": "9450760c",
   "metadata": {},
   "outputs": [
    {
     "data": {
      "text/plain": [
       "122451    0.0\n",
       "14029     1.0\n",
       "51449     0.0\n",
       "17981     1.0\n",
       "66284     1.0\n",
       "         ... \n",
       "63240     1.0\n",
       "45497     1.0\n",
       "70763     1.0\n",
       "105411    0.0\n",
       "90519     1.0\n",
       "Name: BinaryNumTarget, Length: 26840, dtype: float64"
      ]
     },
     "execution_count": 22,
     "metadata": {},
     "output_type": "execute_result"
    }
   ],
   "source": [
    "y_test"
   ]
  },
  {
   "cell_type": "code",
   "execution_count": 23,
   "id": "b714281f",
   "metadata": {},
   "outputs": [
    {
     "name": "stdout",
     "output_type": "stream",
     "text": [
      "Accuracy: 0.9732116244411326\n",
      "Precision: 0.9694810336140502\n",
      "Recall: 0.9785672769543737\n",
      "F1 Score: 0.9740029648913476\n"
     ]
    }
   ],
   "source": [
    "threshold = 0.5  \n",
    "\n",
    "y_pred_binary = np.where(y_pred >= threshold, 1, 0) \n",
    "\n",
    "accuracy = accuracy_score(y_test, y_pred_binary)\n",
    "precision = precision_score(y_test, y_pred_binary)\n",
    "recall = recall_score(y_test, y_pred_binary)\n",
    "f1 = f1_score(y_test, y_pred_binary)\n",
    "\n",
    "print('Accuracy:', accuracy)\n",
    "print('Precision:', precision)\n",
    "print('Recall:', recall)\n",
    "print('F1 Score:', f1)\n"
   ]
  }
 ],
 "metadata": {
  "kernelspec": {
   "display_name": "Python 3 (ipykernel)",
   "language": "python",
   "name": "python3"
  },
  "language_info": {
   "codemirror_mode": {
    "name": "ipython",
    "version": 3
   },
   "file_extension": ".py",
   "mimetype": "text/x-python",
   "name": "python",
   "nbconvert_exporter": "python",
   "pygments_lexer": "ipython3",
   "version": "3.11.4"
  }
 },
 "nbformat": 4,
 "nbformat_minor": 5
}
